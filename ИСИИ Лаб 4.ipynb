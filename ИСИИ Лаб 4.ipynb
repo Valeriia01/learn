{
 "cells": [
  {
   "cell_type": "markdown",
   "id": "121aa4dd",
   "metadata": {},
   "source": [
    "# Инструментальные средства ИИ\n",
    "# Лабораторная работа 4\n",
    "## Касаткина В.Д. группа N4170"
   ]
  },
  {
   "cell_type": "code",
   "execution_count": 1,
   "id": "e266ea0b",
   "metadata": {},
   "outputs": [],
   "source": [
    "from tensorflow.keras.datasets import mnist\n",
    "import matplotlib.pyplot as plt\n",
    "from tensorflow.keras.utils import to_categorical\n",
    "from tensorflow.keras.models import Sequential\n",
    "from tensorflow.keras.layers import Conv2D, Dense, Flatten, MaxPooling2D\n",
    "from tensorflow.keras import layers\n",
    "import numpy as np"
   ]
  },
  {
   "cell_type": "code",
   "execution_count": 2,
   "id": "49bf82f7",
   "metadata": {},
   "outputs": [],
   "source": [
    "(X_train, y_train), (X_test, y_test) = mnist.load_data()"
   ]
  },
  {
   "cell_type": "code",
   "execution_count": 3,
   "id": "3a4e3c14",
   "metadata": {},
   "outputs": [
    {
     "data": {
      "text/plain": [
       "<matplotlib.image.AxesImage at 0x2969d6a7ca0>"
      ]
     },
     "execution_count": 3,
     "metadata": {},
     "output_type": "execute_result"
    },
    {
     "data": {
      "image/png": "[encoded data removed]",
      "text/plain": [
       "<Figure size 432x288 with 1 Axes>"
      ]
     },
     "metadata": {
      "needs_background": "light"
     },
     "output_type": "display_data"
    }
   ],
   "source": [
    "plt.imshow(X_train[0])#Пример данных"
   ]
  },
  {
   "cell_type": "code",
   "execution_count": 4,
   "id": "4ba5587a",
   "metadata": {},
   "outputs": [
    {
     "data": {
      "text/plain": [
       "array([  0,   0,   0,   0,   0,   0,   0,   0,   0,   0,   0,   0,   3,\n",
       "        18,  18,  18, 126, 136, 175,  26, 166, 255, 247, 127,   0,   0,\n",
       "         0,   0], dtype=uint8)"
      ]
     },
     "execution_count": 4,
     "metadata": {},
     "output_type": "execute_result"
    }
   ],
   "source": [
    "X_train[0][5] #Данные не нормализованы"
   ]
  },
  {
   "cell_type": "code",
   "execution_count": 5,
   "id": "745859d1",
   "metadata": {},
   "outputs": [
    {
     "name": "stdout",
     "output_type": "stream",
     "text": [
      "(60000, 28, 28)\n",
      "(10000, 28, 28)\n"
     ]
    }
   ],
   "source": [
    "print(X_train.shape)\n",
    "print(X_test.shape)"
   ]
  },
  {
   "cell_type": "code",
   "execution_count": 6,
   "id": "fbb61b80",
   "metadata": {},
   "outputs": [],
   "source": [
    "#Приведем к необходимому формату \n",
    "X_train = X_train.reshape(60000, 28, 28, 1) # 60000*[ширина, высота, канал]\n",
    "X_test = X_test.reshape(10000, 28, 28, 1) # 10000*[ширина, высота, канал]"
   ]
  },
  {
   "cell_type": "code",
   "execution_count": 7,
   "id": "a0167b31",
   "metadata": {},
   "outputs": [],
   "source": [
    "#Нормализация данных в интервале 0-1 \n",
    "X_train = X_train/255\n",
    "X_test = X_test/255"
   ]
  },
  {
   "cell_type": "code",
   "execution_count": 8,
   "id": "515a6257",
   "metadata": {},
   "outputs": [
    {
     "data": {
      "text/plain": [
       "array([7, 2, 1, ..., 4, 5, 6], dtype=uint8)"
      ]
     },
     "execution_count": 8,
     "metadata": {},
     "output_type": "execute_result"
    }
   ],
   "source": [
    "y_test #Необходимо преобразование данных "
   ]
  },
  {
   "cell_type": "code",
   "execution_count": 9,
   "id": "eb46a2e3",
   "metadata": {},
   "outputs": [],
   "source": [
    "#Преобразование в массивы с вероятностями \n",
    "y_test = to_categorical(y_test)\n",
    "y_train = to_categorical(y_train)"
   ]
  },
  {
   "cell_type": "code",
   "execution_count": 10,
   "id": "7d8b1ebe",
   "metadata": {},
   "outputs": [
    {
     "data": {
      "text/plain": [
       "(10000, 28, 28, 1)"
      ]
     },
     "execution_count": 10,
     "metadata": {},
     "output_type": "execute_result"
    }
   ],
   "source": [
    "X_test.shape"
   ]
  },
  {
   "cell_type": "code",
   "execution_count": 11,
   "id": "8e360778",
   "metadata": {},
   "outputs": [],
   "source": [
    "#1 уровень модели - сверточный\n",
    "#2 уровень модели - обьединяющий\n",
    "#3 уровень модели - сверточный\n",
    "#4 уровень модели - обьединяющий\n",
    "#5 уровень модели - преобразование к необходимой размерности\n",
    "#6-7 уровень модели - уровни классификации \n",
    "model = Sequential(\n",
    "    [\n",
    "        layers.Conv2D(filters=64, kernel_size=(3, 3),activation='relu',\n",
    "                      input_shape=(28, 28, 1)),\n",
    "        layers.MaxPooling2D(pool_size = (2,2)),\n",
    "        layers.Conv2D(filters=128, kernel_size=(3, 3), activation='relu'),\n",
    "        layers.MaxPooling2D(pool_size = (2,2)),\n",
    "        layers.Flatten(), \n",
    "        layers.Dense(units = 128, activation = 'relu'), \n",
    "        layers.Dense(units = 10, activation = 'softmax'), \n",
    "    ]\n",
    ")\n"
   ]
  },
  {
   "cell_type": "code",
   "execution_count": 12,
   "id": "f339e666",
   "metadata": {},
   "outputs": [
    {
     "name": "stdout",
     "output_type": "stream",
     "text": [
      "Model: \"sequential\"\n",
      "_________________________________________________________________\n",
      " Layer (type)                Output Shape              Param #   \n",
      "=================================================================\n",
      " conv2d (Conv2D)             (None, 26, 26, 64)        640       \n",
      "                                                                 \n",
      " max_pooling2d (MaxPooling2D  (None, 13, 13, 64)       0         \n",
      " )                                                               \n",
      "                                                                 \n",
      " conv2d_1 (Conv2D)           (None, 11, 11, 128)       73856     \n",
      "                                                                 \n",
      " max_pooling2d_1 (MaxPooling  (None, 5, 5, 128)        0         \n",
      " 2D)                                                             \n",
      "                                                                 \n",
      " flatten (Flatten)           (None, 3200)              0         \n",
      "                                                                 \n",
      " dense (Dense)               (None, 128)               409728    \n",
      "                                                                 \n",
      " dense_1 (Dense)             (None, 10)                1290      \n",
      "                                                                 \n",
      "=================================================================\n",
      "Total params: 485,514\n",
      "Trainable params: 485,514\n",
      "Non-trainable params: 0\n",
      "_________________________________________________________________\n"
     ]
    }
   ],
   "source": [
    "model.summary()"
   ]
  },
  {
   "cell_type": "code",
   "execution_count": 13,
   "id": "f0056fa8",
   "metadata": {},
   "outputs": [
    {
     "name": "stdout",
     "output_type": "stream",
     "text": [
      "Epoch 1/5\n",
      "844/844 [==============================] - 65s 76ms/step - loss: 0.1454 - accuracy: 0.9551 - val_loss: 0.0520 - val_accuracy: 0.9848\n",
      "Epoch 2/5\n",
      "844/844 [==============================] - 59s 70ms/step - loss: 0.0436 - accuracy: 0.9862 - val_loss: 0.0362 - val_accuracy: 0.9893\n",
      "Epoch 3/5\n",
      "844/844 [==============================] - 64s 75ms/step - loss: 0.0293 - accuracy: 0.9908 - val_loss: 0.0449 - val_accuracy: 0.9882\n",
      "Epoch 4/5\n",
      "844/844 [==============================] - 57s 68ms/step - loss: 0.0200 - accuracy: 0.9938 - val_loss: 0.0376 - val_accuracy: 0.9902\n",
      "Epoch 5/5\n",
      "844/844 [==============================] - 58s 69ms/step - loss: 0.0146 - accuracy: 0.9956 - val_loss: 0.0355 - val_accuracy: 0.9903\n",
      "313/313 [==============================] - 3s 11ms/step - loss: 0.0370 - accuracy: 0.9894\n"
     ]
    }
   ],
   "source": [
    "model.compile(optimizer='adam', loss='categorical_crossentropy', \n",
    "            metrics=['accuracy'])\n",
    "model.fit(X_train, y_train, epochs=5, batch_size=64,validation_split=0.1)\n",
    "loss, accuracy = model.evaluate(X_test, y_test)"
   ]
  },
  {
   "cell_type": "code",
   "execution_count": 14,
   "id": "1a39617e",
   "metadata": {},
   "outputs": [
    {
     "name": "stdout",
     "output_type": "stream",
     "text": [
      "0.03697063773870468\n",
      "0.9894000291824341\n"
     ]
    }
   ],
   "source": [
    "print(loss)\n",
    "print(accuracy)"
   ]
  },
  {
   "cell_type": "code",
   "execution_count": 15,
   "id": "2d5a5926",
   "metadata": {},
   "outputs": [
    {
     "data": {
      "text/plain": [
       "(10000, 28, 28, 1)"
      ]
     },
     "execution_count": 15,
     "metadata": {},
     "output_type": "execute_result"
    }
   ],
   "source": [
    "X_test.shape"
   ]
  },
  {
   "cell_type": "code",
   "execution_count": 16,
   "id": "e4ffd9bc",
   "metadata": {},
   "outputs": [
    {
     "name": "stdout",
     "output_type": "stream",
     "text": [
      "313/313 [==============================] - 4s 11ms/step\n"
     ]
    }
   ],
   "source": [
    "pred = model.predict(X_test)\n",
    "incorr = []\n",
    "img = X_test.reshape(10000, 28,28)\n",
    "#Вывод неверно классифицированных обьектов \n",
    "for i in range(len(y_test)):\n",
    "    if np.argmax(pred[i]) != np.argmax(y_test[i]):\n",
    "        incorr.append([i, img[i], np.argmax(pred[i]), np.argmax(y_test[i])])"
   ]
  },
  {
   "cell_type": "code",
   "execution_count": 17,
   "id": "468eaf26",
   "metadata": {},
   "outputs": [
    {
     "data": {
      "text/plain": [
       "106"
      ]
     },
     "execution_count": 17,
     "metadata": {},
     "output_type": "execute_result"
    }
   ],
   "source": [
    "len(incorr)"
   ]
  },
  {
   "cell_type": "code",
   "execution_count": 18,
   "id": "e443289d",
   "metadata": {},
   "outputs": [
    {
     "data": {
      "image/png": "[encoded data removed]",
      "text/plain": [
       "<Figure size 864x864 with 9 Axes>"
      ]
     },
     "metadata": {},
     "output_type": "display_data"
    }
   ],
   "source": [
    "figure, axes = plt.subplots(nrows=3, ncols=3, figsize=(12, 12))\n",
    "for axes, item in zip(axes.ravel(), incorr):\n",
    "    index, image, predicted, expected = item\n",
    "    axes.imshow(image, cmap=plt.cm.gray_r)\n",
    "    axes.set_xticks([])\n",
    "    axes.set_yticks([]) \n",
    "    axes.set_title(f'index: {index}\\npred: {predicted}; real: {expected}')\n",
    "plt.tight_layout()"
   ]
  },
  {
   "cell_type": "code",
   "execution_count": 19,
   "id": "2eae9ade",
   "metadata": {},
   "outputs": [],
   "source": [
    "def prob(pred):\n",
    "    for i, p in enumerate(pred):\n",
    "        print(i, ' : ',  p)"
   ]
  },
  {
   "cell_type": "code",
   "execution_count": 20,
   "id": "9679f48a",
   "metadata": {},
   "outputs": [
    {
     "name": "stdout",
     "output_type": "stream",
     "text": [
      "0  :  1.2548571e-07\n",
      "1  :  2.6264479e-08\n",
      "2  :  4.717918e-08\n",
      "3  :  5.3274056e-07\n",
      "4  :  1.3652391e-12\n",
      "5  :  3.969899e-09\n",
      "6  :  1.656821e-12\n",
      "7  :  0.99999917\n",
      "8  :  8.5996193e-10\n",
      "9  :  1.8208955e-07\n",
      "-----------------------\n",
      "0  :  5.993981e-08\n",
      "1  :  1.10025184e-07\n",
      "2  :  0.99999976\n",
      "3  :  4.3078087e-16\n",
      "4  :  1.1130683e-11\n",
      "5  :  4.035416e-18\n",
      "6  :  1.7118952e-08\n",
      "7  :  1.5706834e-12\n",
      "8  :  2.283765e-13\n",
      "9  :  6.849003e-14\n",
      "-----------------------\n",
      "0  :  8.390713e-07\n",
      "1  :  0.9999566\n",
      "2  :  5.8871706e-07\n",
      "3  :  1.2371074e-09\n",
      "4  :  3.6560967e-05\n",
      "5  :  1.549871e-06\n",
      "6  :  8.7563785e-07\n",
      "7  :  2.8654765e-06\n",
      "8  :  8.807e-08\n",
      "9  :  3.7510834e-08\n",
      "-----------------------\n",
      "0  :  0.99996793\n",
      "1  :  2.0988506e-09\n",
      "2  :  1.0553503e-09\n",
      "3  :  8.4112894e-10\n",
      "4  :  1.1743096e-09\n",
      "5  :  7.539745e-10\n",
      "6  :  3.2053133e-05\n",
      "7  :  4.396926e-08\n",
      "8  :  1.2055634e-08\n",
      "9  :  1.3955575e-08\n",
      "-----------------------\n",
      "0  :  1.0028662e-09\n",
      "1  :  3.1170306e-11\n",
      "2  :  4.82338e-11\n",
      "3  :  8.881182e-12\n",
      "4  :  0.9999999\n",
      "5  :  7.314217e-12\n",
      "6  :  2.2751314e-09\n",
      "7  :  8.786605e-09\n",
      "8  :  7.3146954e-11\n",
      "9  :  9.517184e-08\n",
      "-----------------------\n"
     ]
    }
   ],
   "source": [
    "for i in range (5):\n",
    "    prob(pred[i])\n",
    "    print('-----------------------')"
   ]
  }
 ],
 "metadata": {
  "kernelspec": {
   "display_name": "Python 3 (ipykernel)",
   "language": "python",
   "name": "python3"
  },
  "language_info": {
   "codemirror_mode": {
    "name": "ipython",
    "version": 3
   },
   "file_extension": ".py",
   "mimetype": "text/x-python",
   "name": "python",
   "nbconvert_exporter": "python",
   "pygments_lexer": "ipython3",
   "version": "3.9.12"
  }
 },
 "nbformat": 4,
 "nbformat_minor": 5
}
