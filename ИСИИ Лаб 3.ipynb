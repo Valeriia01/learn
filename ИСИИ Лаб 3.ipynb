{
 "cells": [
  {
   "cell_type": "markdown",
   "id": "9a06be90",
   "metadata": {},
   "source": [
    "# Инструментальные средства ИИ\n",
    "# Лабораторная работа 3\n",
    "## Касаткина В.Д. группа N4170"
   ]
  },
  {
   "cell_type": "code",
   "execution_count": 1,
   "id": "932ff651",
   "metadata": {},
   "outputs": [],
   "source": [
    "from sklearn.datasets import load_digits\n",
    "from sklearn.model_selection import train_test_split\n",
    "from sklearn.neighbors import KNeighborsClassifier\n",
    "from sklearn.metrics import confusion_matrix\n",
    "from sklearn.metrics import classification_report\n",
    "import pandas as pd\n",
    "import seaborn as sns\n",
    "from sklearn.model_selection import KFold\n",
    "from sklearn.model_selection import cross_val_score\n",
    "from sklearn.svm import SVC\n",
    "from sklearn.naive_bayes import GaussianNB"
   ]
  },
  {
   "cell_type": "code",
   "execution_count": 2,
   "id": "7fba6b32",
   "metadata": {},
   "outputs": [],
   "source": [
    "digits = load_digits()#Загружаем датасет "
   ]
  },
  {
   "cell_type": "code",
   "execution_count": 3,
   "id": "17c8adc2",
   "metadata": {},
   "outputs": [
    {
     "data": {
      "text/plain": [
       "{'data': array([[ 0.,  0.,  5., ...,  0.,  0.,  0.],\n",
       "        [ 0.,  0.,  0., ..., 10.,  0.,  0.],\n",
       "        [ 0.,  0.,  0., ..., 16.,  9.,  0.],\n",
       "        ...,\n",
       "        [ 0.,  0.,  1., ...,  6.,  0.,  0.],\n",
       "        [ 0.,  0.,  2., ..., 12.,  0.,  0.],\n",
       "        [ 0.,  0., 10., ..., 12.,  1.,  0.]]),\n",
       " 'target': array([0, 1, 2, ..., 8, 9, 8]),\n",
       " 'frame': None,\n",
       " 'feature_names': ['pixel_0_0',\n",
       "  'pixel_0_1',\n",
       "  'pixel_0_2',\n",
       "  'pixel_0_3',\n",
       "  'pixel_0_4',\n",
       "  'pixel_0_5',\n",
       "  'pixel_0_6',\n",
       "  'pixel_0_7',\n",
       "  'pixel_1_0',\n",
       "  'pixel_1_1',\n",
       "  'pixel_1_2',\n",
       "  'pixel_1_3',\n",
       "  'pixel_1_4',\n",
       "  'pixel_1_5',\n",
       "  'pixel_1_6',\n",
       "  'pixel_1_7',\n",
       "  'pixel_2_0',\n",
       "  'pixel_2_1',\n",
       "  'pixel_2_2',\n",
       "  'pixel_2_3',\n",
       "  'pixel_2_4',\n",
       "  'pixel_2_5',\n",
       "  'pixel_2_6',\n",
       "  'pixel_2_7',\n",
       "  'pixel_3_0',\n",
       "  'pixel_3_1',\n",
       "  'pixel_3_2',\n",
       "  'pixel_3_3',\n",
       "  'pixel_3_4',\n",
       "  'pixel_3_5',\n",
       "  'pixel_3_6',\n",
       "  'pixel_3_7',\n",
       "  'pixel_4_0',\n",
       "  'pixel_4_1',\n",
       "  'pixel_4_2',\n",
       "  'pixel_4_3',\n",
       "  'pixel_4_4',\n",
       "  'pixel_4_5',\n",
       "  'pixel_4_6',\n",
       "  'pixel_4_7',\n",
       "  'pixel_5_0',\n",
       "  'pixel_5_1',\n",
       "  'pixel_5_2',\n",
       "  'pixel_5_3',\n",
       "  'pixel_5_4',\n",
       "  'pixel_5_5',\n",
       "  'pixel_5_6',\n",
       "  'pixel_5_7',\n",
       "  'pixel_6_0',\n",
       "  'pixel_6_1',\n",
       "  'pixel_6_2',\n",
       "  'pixel_6_3',\n",
       "  'pixel_6_4',\n",
       "  'pixel_6_5',\n",
       "  'pixel_6_6',\n",
       "  'pixel_6_7',\n",
       "  'pixel_7_0',\n",
       "  'pixel_7_1',\n",
       "  'pixel_7_2',\n",
       "  'pixel_7_3',\n",
       "  'pixel_7_4',\n",
       "  'pixel_7_5',\n",
       "  'pixel_7_6',\n",
       "  'pixel_7_7'],\n",
       " 'target_names': array([0, 1, 2, 3, 4, 5, 6, 7, 8, 9]),\n",
       " 'images': array([[[ 0.,  0.,  5., ...,  1.,  0.,  0.],\n",
       "         [ 0.,  0., 13., ..., 15.,  5.,  0.],\n",
       "         [ 0.,  3., 15., ..., 11.,  8.,  0.],\n",
       "         ...,\n",
       "         [ 0.,  4., 11., ..., 12.,  7.,  0.],\n",
       "         [ 0.,  2., 14., ..., 12.,  0.,  0.],\n",
       "         [ 0.,  0.,  6., ...,  0.,  0.,  0.]],\n",
       " \n",
       "        [[ 0.,  0.,  0., ...,  5.,  0.,  0.],\n",
       "         [ 0.,  0.,  0., ...,  9.,  0.,  0.],\n",
       "         [ 0.,  0.,  3., ...,  6.,  0.,  0.],\n",
       "         ...,\n",
       "         [ 0.,  0.,  1., ...,  6.,  0.,  0.],\n",
       "         [ 0.,  0.,  1., ...,  6.,  0.,  0.],\n",
       "         [ 0.,  0.,  0., ..., 10.,  0.,  0.]],\n",
       " \n",
       "        [[ 0.,  0.,  0., ..., 12.,  0.,  0.],\n",
       "         [ 0.,  0.,  3., ..., 14.,  0.,  0.],\n",
       "         [ 0.,  0.,  8., ..., 16.,  0.,  0.],\n",
       "         ...,\n",
       "         [ 0.,  9., 16., ...,  0.,  0.,  0.],\n",
       "         [ 0.,  3., 13., ..., 11.,  5.,  0.],\n",
       "         [ 0.,  0.,  0., ..., 16.,  9.,  0.]],\n",
       " \n",
       "        ...,\n",
       " \n",
       "        [[ 0.,  0.,  1., ...,  1.,  0.,  0.],\n",
       "         [ 0.,  0., 13., ...,  2.,  1.,  0.],\n",
       "         [ 0.,  0., 16., ..., 16.,  5.,  0.],\n",
       "         ...,\n",
       "         [ 0.,  0., 16., ..., 15.,  0.,  0.],\n",
       "         [ 0.,  0., 15., ..., 16.,  0.,  0.],\n",
       "         [ 0.,  0.,  2., ...,  6.,  0.,  0.]],\n",
       " \n",
       "        [[ 0.,  0.,  2., ...,  0.,  0.,  0.],\n",
       "         [ 0.,  0., 14., ..., 15.,  1.,  0.],\n",
       "         [ 0.,  4., 16., ..., 16.,  7.,  0.],\n",
       "         ...,\n",
       "         [ 0.,  0.,  0., ..., 16.,  2.,  0.],\n",
       "         [ 0.,  0.,  4., ..., 16.,  2.,  0.],\n",
       "         [ 0.,  0.,  5., ..., 12.,  0.,  0.]],\n",
       " \n",
       "        [[ 0.,  0., 10., ...,  1.,  0.,  0.],\n",
       "         [ 0.,  2., 16., ...,  1.,  0.,  0.],\n",
       "         [ 0.,  0., 15., ..., 15.,  0.,  0.],\n",
       "         ...,\n",
       "         [ 0.,  4., 16., ..., 16.,  6.,  0.],\n",
       "         [ 0.,  8., 16., ..., 16.,  8.,  0.],\n",
       "         [ 0.,  1.,  8., ..., 12.,  1.,  0.]]]),\n",
       " 'DESCR': \".. _digits_dataset:\\n\\nOptical recognition of handwritten digits dataset\\n--------------------------------------------------\\n\\n**Data Set Characteristics:**\\n\\n    :Number of Instances: 1797\\n    :Number of Attributes: 64\\n    :Attribute Information: 8x8 image of integer pixels in the range 0..16.\\n    :Missing Attribute Values: None\\n    :Creator: E. Alpaydin (alpaydin '@' boun.edu.tr)\\n    :Date: July; 1998\\n\\nThis is a copy of the test set of the UCI ML hand-written digits datasets\\nhttps://archive.ics.uci.edu/ml/datasets/Optical+Recognition+of+Handwritten+Digits\\n\\nThe data set contains images of hand-written digits: 10 classes where\\neach class refers to a digit.\\n\\nPreprocessing programs made available by NIST were used to extract\\nnormalized bitmaps of handwritten digits from a preprinted form. From a\\ntotal of 43 people, 30 contributed to the training set and different 13\\nto the test set. 32x32 bitmaps are divided into nonoverlapping blocks of\\n4x4 and the number of on pixels are counted in each block. This generates\\nan input matrix of 8x8 where each element is an integer in the range\\n0..16. This reduces dimensionality and gives invariance to small\\ndistortions.\\n\\nFor info on NIST preprocessing routines, see M. D. Garris, J. L. Blue, G.\\nT. Candela, D. L. Dimmick, J. Geist, P. J. Grother, S. A. Janet, and C.\\nL. Wilson, NIST Form-Based Handprint Recognition System, NISTIR 5469,\\n1994.\\n\\n.. topic:: References\\n\\n  - C. Kaynak (1995) Methods of Combining Multiple Classifiers and Their\\n    Applications to Handwritten Digit Recognition, MSc Thesis, Institute of\\n    Graduate Studies in Science and Engineering, Bogazici University.\\n  - E. Alpaydin, C. Kaynak (1998) Cascading Classifiers, Kybernetika.\\n  - Ken Tang and Ponnuthurai N. Suganthan and Xi Yao and A. Kai Qin.\\n    Linear dimensionalityreduction using relevance weighted LDA. School of\\n    Electrical and Electronic Engineering Nanyang Technological University.\\n    2005.\\n  - Claudio Gentile. A New Approximate Maximal Margin Classification\\n    Algorithm. NIPS. 2000.\\n\"}"
      ]
     },
     "execution_count": 3,
     "metadata": {},
     "output_type": "execute_result"
    }
   ],
   "source": [
    "digits"
   ]
  },
  {
   "cell_type": "markdown",
   "id": "6d538d45",
   "metadata": {},
   "source": [
    "Дынные являются предварительно обработанными.\n",
    "\n",
    "digits.data - предикторы \n",
    "\n",
    "digits.target - отклики "
   ]
  },
  {
   "cell_type": "code",
   "execution_count": 4,
   "id": "82189f6c",
   "metadata": {},
   "outputs": [],
   "source": [
    "#Делим на тестовую и обучающую \n",
    "X_train, X_test, y_train, y_test = train_test_split(digits.data, \n",
    "                                                    digits.target, \n",
    "                                                    test_size= 0.3,\n",
    "                                                    random_state=26791)\n",
    "#Определяем и тренируем модель \n",
    "knn = KNeighborsClassifier().fit(X_train, y_train)\n",
    "#Предсказываем значения \n",
    "pred = knn.predict(X_test)"
   ]
  },
  {
   "cell_type": "code",
   "execution_count": 5,
   "id": "b484137b",
   "metadata": {},
   "outputs": [
    {
     "name": "stdout",
     "output_type": "stream",
     "text": [
      "---------------------------------------------\n",
      "Предсказанное -  7 \n",
      "Реальное -  3 \n",
      "Индекс элемента -  42\n",
      "---------------------------------------------\n",
      "Предсказанное -  1 \n",
      "Реальное -  8 \n",
      "Индекс элемента -  91\n",
      "---------------------------------------------\n",
      "Предсказанное -  1 \n",
      "Реальное -  8 \n",
      "Индекс элемента -  117\n",
      "---------------------------------------------\n",
      "Предсказанное -  9 \n",
      "Реальное -  5 \n",
      "Индекс элемента -  159\n",
      "---------------------------------------------\n",
      "Предсказанное -  7 \n",
      "Реальное -  3 \n",
      "Индекс элемента -  263\n",
      "---------------------------------------------\n",
      "Предсказанное -  9 \n",
      "Реальное -  5 \n",
      "Индекс элемента -  290\n",
      "---------------------------------------------\n",
      "Предсказанное -  5 \n",
      "Реальное -  9 \n",
      "Индекс элемента -  364\n",
      "---------------------------------------------\n",
      "Предсказанное -  3 \n",
      "Реальное -  8 \n",
      "Индекс элемента -  386\n"
     ]
    }
   ],
   "source": [
    "#Вывод неверно классифицированных обьектов \n",
    "for i in range(len(y_test)):\n",
    "    if pred[i] != y_test[i]:\n",
    "        print('---------------------------------------------')\n",
    "        print('Предсказанное - ', pred[i], '\\nРеальное - ', \n",
    "              y_test[i], '\\nИндекс элемента - ', i )"
   ]
  },
  {
   "cell_type": "code",
   "execution_count": 6,
   "id": "91055a63",
   "metadata": {},
   "outputs": [
    {
     "name": "stdout",
     "output_type": "stream",
     "text": [
      "точность прогнозирования -  0.9851851851851852\n"
     ]
    }
   ],
   "source": [
    "print('точность прогнозирования - ', knn.score(X_test, y_test))"
   ]
  },
  {
   "cell_type": "code",
   "execution_count": 7,
   "id": "31ccedaa",
   "metadata": {},
   "outputs": [
    {
     "data": {
      "text/plain": [
       "array([[48,  0,  0,  0,  0,  0,  0,  0,  0,  0],\n",
       "       [ 0, 56,  0,  0,  0,  0,  0,  0,  0,  0],\n",
       "       [ 0,  0, 59,  0,  0,  0,  0,  0,  0,  0],\n",
       "       [ 0,  0,  0, 63,  0,  0,  0,  2,  0,  0],\n",
       "       [ 0,  0,  0,  0, 55,  0,  0,  0,  0,  0],\n",
       "       [ 0,  0,  0,  0,  0, 43,  0,  0,  0,  2],\n",
       "       [ 0,  0,  0,  0,  0,  0, 61,  0,  0,  0],\n",
       "       [ 0,  0,  0,  0,  0,  0,  0, 55,  0,  0],\n",
       "       [ 0,  2,  0,  1,  0,  0,  0,  0, 48,  0],\n",
       "       [ 0,  0,  0,  0,  0,  1,  0,  0,  0, 44]], dtype=int64)"
      ]
     },
     "execution_count": 7,
     "metadata": {},
     "output_type": "execute_result"
    }
   ],
   "source": [
    "#Матрица несоответствий \n",
    "confusion_matrix(y_test, pred)"
   ]
  },
  {
   "cell_type": "markdown",
   "id": "4f901dea",
   "metadata": {},
   "source": [
    "2 неправильно классифицированных '8' как '1'\n",
    "\n",
    "1 неправильно классифицированных '8' как '3'\n",
    "\n",
    "1 неправильно классифицированных '9' как '5'\n",
    "\n",
    "2 неправильно классифицированных '3' как '7'\n",
    "\n",
    "2 неправильно классифицированных '5' как '9'\n"
   ]
  },
  {
   "cell_type": "code",
   "execution_count": 8,
   "id": "3f77833a",
   "metadata": {},
   "outputs": [
    {
     "name": "stdout",
     "output_type": "stream",
     "text": [
      "              precision    recall  f1-score   support\n",
      "\n",
      "           0       1.00      1.00      1.00        48\n",
      "           1       0.97      1.00      0.98        56\n",
      "           2       1.00      1.00      1.00        59\n",
      "           3       0.98      0.97      0.98        65\n",
      "           4       1.00      1.00      1.00        55\n",
      "           5       0.98      0.96      0.97        45\n",
      "           6       1.00      1.00      1.00        61\n",
      "           7       0.96      1.00      0.98        55\n",
      "           8       1.00      0.94      0.97        51\n",
      "           9       0.96      0.98      0.97        45\n",
      "\n",
      "    accuracy                           0.99       540\n",
      "   macro avg       0.98      0.98      0.98       540\n",
      "weighted avg       0.99      0.99      0.99       540\n",
      "\n"
     ]
    }
   ],
   "source": [
    "#Отчет по показателям эффективности модели \n",
    "print(classification_report(y_test,pred))"
   ]
  },
  {
   "cell_type": "code",
   "execution_count": 9,
   "id": "8c7035c6",
   "metadata": {},
   "outputs": [
    {
     "data": {
      "text/plain": [
       "<AxesSubplot:>"
      ]
     },
     "execution_count": 9,
     "metadata": {},
     "output_type": "execute_result"
    },
    {
     "data": {
      "image/png": "[encoded data removed]",
      "text/plain": [
       "<Figure size 432x288 with 2 Axes>"
      ]
     },
     "metadata": {
      "needs_background": "light"
     },
     "output_type": "display_data"
    }
   ],
   "source": [
    "#Матрица несоответствий, но красивая \n",
    "sns.heatmap(pd.DataFrame(confusion_matrix(y_test, pred)), \n",
    "            annot=True, cmap='nipy_spectral_r')"
   ]
  },
  {
   "cell_type": "code",
   "execution_count": 10,
   "id": "2107facc",
   "metadata": {},
   "outputs": [
    {
     "name": "stdout",
     "output_type": "stream",
     "text": [
      "Показатели точности:\n",
      " [0.99444444 0.98888889 0.99444444 0.98888889 0.98333333 0.97222222\n",
      " 0.99444444 0.98882682 0.98324022 1.        ]\n",
      "Средняя точность -  0.9888733705772813\n",
      "Стандартное отклонение -  0.007460564482789046\n"
     ]
    }
   ],
   "source": [
    "#Показатели при перекрестной проверке \n",
    "score = cross_val_score(estimator=knn, X=digits.data, y=digits.target, \n",
    "                cv = KFold(n_splits=10, random_state=1821, shuffle=True))\n",
    "print('Показатели точности:\\n', score)\n",
    "print('Средняя точность - ', score.mean())\n",
    "print('Стандартное отклонение - ', score.std())"
   ]
  },
  {
   "cell_type": "code",
   "execution_count": 11,
   "id": "33884dfd",
   "metadata": {},
   "outputs": [
    {
     "name": "stdout",
     "output_type": "stream",
     "text": [
      "KNeighborsClassifier : mean accuracy = 0.99 ; standard deviation = 0.01\n",
      "SVC : mean accuracy = 0.99 ; standard deviation = 0.01\n",
      "GaussianNB : mean accuracy = 0.84 ; standard deviation = 0.03\n"
     ]
    }
   ],
   "source": [
    "#Оценка разных методов \n",
    "estimators = {'KNeighborsClassifier': knn, 'SVC': SVC(gamma='scale'), \n",
    "              'GaussianNB': GaussianNB()}\n",
    "for estimator_name, estimator_object in estimators.items():\n",
    "    kfold = KFold(n_splits=10, random_state=1821, shuffle=True)\n",
    "    scores = cross_val_score(estimator=estimator_object,X=digits.data, \n",
    "                             y=digits.target, cv=kfold)\n",
    "    print(estimator_name, ': mean accuracy =', scores.mean().round(2),  '; standard deviation =', scores.std().round(2))"
   ]
  },
  {
   "cell_type": "code",
   "execution_count": 12,
   "id": "8354d517",
   "metadata": {},
   "outputs": [
    {
     "name": "stdout",
     "output_type": "stream",
     "text": [
      "k= 1 ; mean accuracy= 0.9883; standard deviation= 0.0107\n",
      "k= 2 ; mean accuracy= 0.9861; standard deviation= 0.0106\n",
      "k= 3 ; mean accuracy= 0.9889; standard deviation= 0.0086\n",
      "k= 4 ; mean accuracy= 0.9883; standard deviation= 0.008\n",
      "k= 5 ; mean accuracy= 0.9889; standard deviation= 0.0075\n",
      "k= 6 ; mean accuracy= 0.985; standard deviation= 0.0075\n",
      "k= 7 ; mean accuracy= 0.9855; standard deviation= 0.0087\n",
      "k= 8 ; mean accuracy= 0.9855; standard deviation= 0.0083\n",
      "k= 9 ; mean accuracy= 0.9861; standard deviation= 0.0087\n",
      "k= 10 ; mean accuracy= 0.9828; standard deviation= 0.0094\n",
      "k= 11 ; mean accuracy= 0.9827; standard deviation= 0.0084\n",
      "k= 12 ; mean accuracy= 0.9822; standard deviation= 0.0082\n",
      "k= 13 ; mean accuracy= 0.9811; standard deviation= 0.0087\n",
      "k= 14 ; mean accuracy= 0.9788; standard deviation= 0.0102\n",
      "k= 15 ; mean accuracy= 0.9794; standard deviation= 0.0109\n",
      "k= 16 ; mean accuracy= 0.98; standard deviation= 0.01\n",
      "k= 17 ; mean accuracy= 0.9788; standard deviation= 0.0114\n",
      "k= 18 ; mean accuracy= 0.9805; standard deviation= 0.01\n",
      "k= 19 ; mean accuracy= 0.9761; standard deviation= 0.0117\n"
     ]
    }
   ],
   "source": [
    "#Поиск оптимального количества соседей \n",
    "for k in range (1, 20):\n",
    "    val = cross_val_score(estimator=KNeighborsClassifier(n_neighbors=k),\n",
    "                              X=digits.data,y=digits.target, \n",
    "                              cv=KFold(n_splits=10, random_state=1821, \n",
    "                                       shuffle=True))\n",
    "    print(f'k= %s ; mean accuracy= %s; standard deviation= %s' \n",
    "          %(k, val.mean().round(4), val.std().round(4)))"
   ]
  },
  {
   "cell_type": "markdown",
   "id": "f16f7dd6",
   "metadata": {},
   "source": [
    "Наилучший результат \n",
    "\n",
    "k= 5 ; mean accuracy= 0.9889; standard deviation= 0.0075"
   ]
  }
 ],
 "metadata": {
  "kernelspec": {
   "display_name": "Python 3 (ipykernel)",
   "language": "python",
   "name": "python3"
  },
  "language_info": {
   "codemirror_mode": {
    "name": "ipython",
    "version": 3
   },
   "file_extension": ".py",
   "mimetype": "text/x-python",
   "name": "python",
   "nbconvert_exporter": "python",
   "pygments_lexer": "ipython3",
   "version": "3.9.12"
  }
 },
 "nbformat": 4,
 "nbformat_minor": 5
}
