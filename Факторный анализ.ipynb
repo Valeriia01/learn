{
  "nbformat": 4,
  "nbformat_minor": 0,
  "metadata": {
    "colab": {
      "provenance": [],
      "collapsed_sections": []
    },
    "kernelspec": {
      "name": "python3",
      "display_name": "Python 3"
    },
    "language_info": {
      "name": "python"
    }
  },
  "cells": [
    {
      "cell_type": "markdown",
      "metadata": {
        "id": "EKmT1Gj2T8um"
      },
      "source": [
        "\n",
        "Факторный анализ"
      ]
    },
    {
      "cell_type": "code",
      "metadata": {
        "id": "vwQsWwyIFbm1"
      },
      "source": [
        "import pandas as pd\n",
        "import numpy as np\n",
        "import matplotlib\n",
        "import matplotlib.pyplot as plt\n",
        "from scipy import stats\n",
        "matplotlib.style.use('ggplot')\n",
        "%matplotlib inline\n",
        "from sklearn.model_selection import train_test_split, StratifiedKFold\n",
        "from sklearn.model_selection import GridSearchCV\n",
        "from xgboost import XGBClassifier\n",
        "from pandas.plotting import scatter_matrix\n",
        "import seaborn as sns\n",
        "from sklearn import preprocessing\n",
        "\n"
      ],
      "execution_count": null,
      "outputs": []
    },
    {
      "cell_type": "code",
      "metadata": {
        "colab": {
          "base_uri": "https://localhost:8080/",
          "height": 224
        },
        "id": "IhuuX63NF1e6",
        "outputId": "e05fe135-91c3-4a5a-eb3c-bb7b2cf50b12"
      },
      "source": [
        "df = pd.read_csv('bank-full.csv', sep=';')\n",
        "df.head()"
      ],
      "execution_count": null,
      "outputs": [
        {
          "output_type": "execute_result",
          "data": {
            "text/html": [
              "<div>\n",
              "<style scoped>\n",
              "    .dataframe tbody tr th:only-of-type {\n",
              "        vertical-align: middle;\n",
              "    }\n",
              "\n",
              "    .dataframe tbody tr th {\n",
              "        vertical-align: top;\n",
              "    }\n",
              "\n",
              "    .dataframe thead th {\n",
              "        text-align: right;\n",
              "    }\n",
              "</style>\n",
              "<table border=\"1\" class=\"dataframe\">\n",
              "  <thead>\n",
              "    <tr style=\"text-align: right;\">\n",
              "      <th></th>\n",
              "      <th>age</th>\n",
              "      <th>job</th>\n",
              "      <th>marital</th>\n",
              "      <th>education</th>\n",
              "      <th>default</th>\n",
              "      <th>balance</th>\n",
              "      <th>housing</th>\n",
              "      <th>loan</th>\n",
              "      <th>contact</th>\n",
              "      <th>day</th>\n",
              "      <th>month</th>\n",
              "      <th>duration</th>\n",
              "      <th>campaign</th>\n",
              "      <th>pdays</th>\n",
              "      <th>previous</th>\n",
              "      <th>poutcome</th>\n",
              "      <th>y</th>\n",
              "    </tr>\n",
              "  </thead>\n",
              "  <tbody>\n",
              "    <tr>\n",
              "      <th>0</th>\n",
              "      <td>58</td>\n",
              "      <td>management</td>\n",
              "      <td>married</td>\n",
              "      <td>tertiary</td>\n",
              "      <td>no</td>\n",
              "      <td>2143</td>\n",
              "      <td>yes</td>\n",
              "      <td>no</td>\n",
              "      <td>unknown</td>\n",
              "      <td>5</td>\n",
              "      <td>may</td>\n",
              "      <td>261</td>\n",
              "      <td>1</td>\n",
              "      <td>-1</td>\n",
              "      <td>0</td>\n",
              "      <td>unknown</td>\n",
              "      <td>no</td>\n",
              "    </tr>\n",
              "    <tr>\n",
              "      <th>1</th>\n",
              "      <td>44</td>\n",
              "      <td>technician</td>\n",
              "      <td>single</td>\n",
              "      <td>secondary</td>\n",
              "      <td>no</td>\n",
              "      <td>29</td>\n",
              "      <td>yes</td>\n",
              "      <td>no</td>\n",
              "      <td>unknown</td>\n",
              "      <td>5</td>\n",
              "      <td>may</td>\n",
              "      <td>151</td>\n",
              "      <td>1</td>\n",
              "      <td>-1</td>\n",
              "      <td>0</td>\n",
              "      <td>unknown</td>\n",
              "      <td>no</td>\n",
              "    </tr>\n",
              "    <tr>\n",
              "      <th>2</th>\n",
              "      <td>33</td>\n",
              "      <td>entrepreneur</td>\n",
              "      <td>married</td>\n",
              "      <td>secondary</td>\n",
              "      <td>no</td>\n",
              "      <td>2</td>\n",
              "      <td>yes</td>\n",
              "      <td>yes</td>\n",
              "      <td>unknown</td>\n",
              "      <td>5</td>\n",
              "      <td>may</td>\n",
              "      <td>76</td>\n",
              "      <td>1</td>\n",
              "      <td>-1</td>\n",
              "      <td>0</td>\n",
              "      <td>unknown</td>\n",
              "      <td>no</td>\n",
              "    </tr>\n",
              "    <tr>\n",
              "      <th>3</th>\n",
              "      <td>47</td>\n",
              "      <td>blue-collar</td>\n",
              "      <td>married</td>\n",
              "      <td>unknown</td>\n",
              "      <td>no</td>\n",
              "      <td>1506</td>\n",
              "      <td>yes</td>\n",
              "      <td>no</td>\n",
              "      <td>unknown</td>\n",
              "      <td>5</td>\n",
              "      <td>may</td>\n",
              "      <td>92</td>\n",
              "      <td>1</td>\n",
              "      <td>-1</td>\n",
              "      <td>0</td>\n",
              "      <td>unknown</td>\n",
              "      <td>no</td>\n",
              "    </tr>\n",
              "    <tr>\n",
              "      <th>4</th>\n",
              "      <td>33</td>\n",
              "      <td>unknown</td>\n",
              "      <td>single</td>\n",
              "      <td>unknown</td>\n",
              "      <td>no</td>\n",
              "      <td>1</td>\n",
              "      <td>no</td>\n",
              "      <td>no</td>\n",
              "      <td>unknown</td>\n",
              "      <td>5</td>\n",
              "      <td>may</td>\n",
              "      <td>198</td>\n",
              "      <td>1</td>\n",
              "      <td>-1</td>\n",
              "      <td>0</td>\n",
              "      <td>unknown</td>\n",
              "      <td>no</td>\n",
              "    </tr>\n",
              "  </tbody>\n",
              "</table>\n",
              "</div>"
            ],
            "text/plain": [
              "   age           job  marital  education  ... pdays  previous poutcome   y\n",
              "0   58    management  married   tertiary  ...    -1         0  unknown  no\n",
              "1   44    technician   single  secondary  ...    -1         0  unknown  no\n",
              "2   33  entrepreneur  married  secondary  ...    -1         0  unknown  no\n",
              "3   47   blue-collar  married    unknown  ...    -1         0  unknown  no\n",
              "4   33       unknown   single    unknown  ...    -1         0  unknown  no\n",
              "\n",
              "[5 rows x 17 columns]"
            ]
          },
          "metadata": {
            "tags": []
          },
          "execution_count": 199
        }
      ]
    },
    {
      "cell_type": "markdown",
      "metadata": {
        "id": "motFxSMI1uzt"
      },
      "source": [
        "#Подготавливаем данные"
      ]
    },
    {
      "cell_type": "markdown",
      "metadata": {
        "id": "TNGTdA1v1x2i"
      },
      "source": [
        "Необходимо заменить текстовые поля числами. Сделаю это с помощью \"ключей\""
      ]
    },
    {
      "cell_type": "code",
      "metadata": {
        "id": "5dses19MLlnY"
      },
      "source": [
        "jobs = list(np.unique(df['job']))\n",
        "fam = list(np.unique(df['marital']))\n",
        "ed =list(np.unique(df['education']))\n",
        "dflt =list(np.unique(df['default']))\n",
        "hous = list(np.unique(df['housing']))\n",
        "loan = list(np.unique(df['loan']))\n",
        "contact = list(np.unique(df['contact']))\n",
        "month = list(np.unique(df['month']))\n",
        "poutcome = list(np.unique(df['poutcome']))\n",
        "y = ['no', 'yes']\n",
        "df1 = df"
      ],
      "execution_count": null,
      "outputs": []
    },
    {
      "cell_type": "code",
      "metadata": {
        "colab": {
          "base_uri": "https://localhost:8080/",
          "height": 1000
        },
        "id": "njScrBBbODlX",
        "outputId": "b23d12d0-a4d7-4bb4-8933-b288c8269c0a"
      },
      "source": [
        "for i in range (45211):\n",
        "   df1['job'][i] = float(jobs.index(df['job'][i]))\n",
        "   df1['marital'][i] = float(fam.index(df['marital'][i]))\n",
        "   df1['education'][i] = float(ed.index(df['education'][i]))\n",
        "   df1['housing'][i] = float(hous.index(df['housing'][i]))\n",
        "   df1['loan'][i] = float(loan.index(df['loan'][i]))\n",
        "   df1['contact'][i] = float(contact.index(df['contact'][i]))\n",
        "   df1['month'][i] = float(month.index(df['month'][i]))\n",
        "   df1['poutcome'][i] = float(poutcome.index(df['poutcome'][i]))\n",
        "   df1['default'][i] = float(dflt.index(df['default'][i]))\n",
        "   df1['y'][i] = float(y.index(df['y'][i]))\n",
        "df1"
      ],
      "execution_count": null,
      "outputs": [
        {
          "output_type": "stream",
          "text": [
            "/usr/local/lib/python3.7/dist-packages/ipykernel_launcher.py:2: SettingWithCopyWarning: \n",
            "A value is trying to be set on a copy of a slice from a DataFrame\n",
            "\n",
            "See the caveats in the documentation: https://pandas.pydata.org/pandas-docs/stable/user_guide/indexing.html#returning-a-view-versus-a-copy\n",
            "  \n",
            "/usr/local/lib/python3.7/dist-packages/ipykernel_launcher.py:3: SettingWithCopyWarning: \n",
            "A value is trying to be set on a copy of a slice from a DataFrame\n",
            "\n",
            "See the caveats in the documentation: https://pandas.pydata.org/pandas-docs/stable/user_guide/indexing.html#returning-a-view-versus-a-copy\n",
            "  This is separate from the ipykernel package so we can avoid doing imports until\n",
            "/usr/local/lib/python3.7/dist-packages/ipykernel_launcher.py:4: SettingWithCopyWarning: \n",
            "A value is trying to be set on a copy of a slice from a DataFrame\n",
            "\n",
            "See the caveats in the documentation: https://pandas.pydata.org/pandas-docs/stable/user_guide/indexing.html#returning-a-view-versus-a-copy\n",
            "  after removing the cwd from sys.path.\n",
            "/usr/local/lib/python3.7/dist-packages/ipykernel_launcher.py:5: SettingWithCopyWarning: \n",
            "A value is trying to be set on a copy of a slice from a DataFrame\n",
            "\n",
            "See the caveats in the documentation: https://pandas.pydata.org/pandas-docs/stable/user_guide/indexing.html#returning-a-view-versus-a-copy\n",
            "  \"\"\"\n",
            "/usr/local/lib/python3.7/dist-packages/ipykernel_launcher.py:6: SettingWithCopyWarning: \n",
            "A value is trying to be set on a copy of a slice from a DataFrame\n",
            "\n",
            "See the caveats in the documentation: https://pandas.pydata.org/pandas-docs/stable/user_guide/indexing.html#returning-a-view-versus-a-copy\n",
            "  \n",
            "/usr/local/lib/python3.7/dist-packages/ipykernel_launcher.py:7: SettingWithCopyWarning: \n",
            "A value is trying to be set on a copy of a slice from a DataFrame\n",
            "\n",
            "See the caveats in the documentation: https://pandas.pydata.org/pandas-docs/stable/user_guide/indexing.html#returning-a-view-versus-a-copy\n",
            "  import sys\n",
            "/usr/local/lib/python3.7/dist-packages/ipykernel_launcher.py:8: SettingWithCopyWarning: \n",
            "A value is trying to be set on a copy of a slice from a DataFrame\n",
            "\n",
            "See the caveats in the documentation: https://pandas.pydata.org/pandas-docs/stable/user_guide/indexing.html#returning-a-view-versus-a-copy\n",
            "  \n",
            "/usr/local/lib/python3.7/dist-packages/ipykernel_launcher.py:9: SettingWithCopyWarning: \n",
            "A value is trying to be set on a copy of a slice from a DataFrame\n",
            "\n",
            "See the caveats in the documentation: https://pandas.pydata.org/pandas-docs/stable/user_guide/indexing.html#returning-a-view-versus-a-copy\n",
            "  if __name__ == '__main__':\n",
            "/usr/local/lib/python3.7/dist-packages/ipykernel_launcher.py:10: SettingWithCopyWarning: \n",
            "A value is trying to be set on a copy of a slice from a DataFrame\n",
            "\n",
            "See the caveats in the documentation: https://pandas.pydata.org/pandas-docs/stable/user_guide/indexing.html#returning-a-view-versus-a-copy\n",
            "  # Remove the CWD from sys.path while we load stuff.\n",
            "/usr/local/lib/python3.7/dist-packages/ipykernel_launcher.py:11: SettingWithCopyWarning: \n",
            "A value is trying to be set on a copy of a slice from a DataFrame\n",
            "\n",
            "See the caveats in the documentation: https://pandas.pydata.org/pandas-docs/stable/user_guide/indexing.html#returning-a-view-versus-a-copy\n",
            "  # This is added back by InteractiveShellApp.init_path()\n"
          ],
          "name": "stderr"
        },
        {
          "output_type": "execute_result",
          "data": {
            "text/html": [
              "<div>\n",
              "<style scoped>\n",
              "    .dataframe tbody tr th:only-of-type {\n",
              "        vertical-align: middle;\n",
              "    }\n",
              "\n",
              "    .dataframe tbody tr th {\n",
              "        vertical-align: top;\n",
              "    }\n",
              "\n",
              "    .dataframe thead th {\n",
              "        text-align: right;\n",
              "    }\n",
              "</style>\n",
              "<table border=\"1\" class=\"dataframe\">\n",
              "  <thead>\n",
              "    <tr style=\"text-align: right;\">\n",
              "      <th></th>\n",
              "      <th>age</th>\n",
              "      <th>job</th>\n",
              "      <th>marital</th>\n",
              "      <th>education</th>\n",
              "      <th>default</th>\n",
              "      <th>balance</th>\n",
              "      <th>housing</th>\n",
              "      <th>loan</th>\n",
              "      <th>contact</th>\n",
              "      <th>day</th>\n",
              "      <th>month</th>\n",
              "      <th>duration</th>\n",
              "      <th>campaign</th>\n",
              "      <th>pdays</th>\n",
              "      <th>previous</th>\n",
              "      <th>poutcome</th>\n",
              "      <th>y</th>\n",
              "    </tr>\n",
              "  </thead>\n",
              "  <tbody>\n",
              "    <tr>\n",
              "      <th>0</th>\n",
              "      <td>58</td>\n",
              "      <td>4</td>\n",
              "      <td>1</td>\n",
              "      <td>2</td>\n",
              "      <td>0</td>\n",
              "      <td>2143</td>\n",
              "      <td>1</td>\n",
              "      <td>0</td>\n",
              "      <td>2</td>\n",
              "      <td>5</td>\n",
              "      <td>8</td>\n",
              "      <td>261</td>\n",
              "      <td>1</td>\n",
              "      <td>-1</td>\n",
              "      <td>0</td>\n",
              "      <td>3</td>\n",
              "      <td>0</td>\n",
              "    </tr>\n",
              "    <tr>\n",
              "      <th>1</th>\n",
              "      <td>44</td>\n",
              "      <td>9</td>\n",
              "      <td>2</td>\n",
              "      <td>1</td>\n",
              "      <td>0</td>\n",
              "      <td>29</td>\n",
              "      <td>1</td>\n",
              "      <td>0</td>\n",
              "      <td>2</td>\n",
              "      <td>5</td>\n",
              "      <td>8</td>\n",
              "      <td>151</td>\n",
              "      <td>1</td>\n",
              "      <td>-1</td>\n",
              "      <td>0</td>\n",
              "      <td>3</td>\n",
              "      <td>0</td>\n",
              "    </tr>\n",
              "    <tr>\n",
              "      <th>2</th>\n",
              "      <td>33</td>\n",
              "      <td>2</td>\n",
              "      <td>1</td>\n",
              "      <td>1</td>\n",
              "      <td>0</td>\n",
              "      <td>2</td>\n",
              "      <td>1</td>\n",
              "      <td>1</td>\n",
              "      <td>2</td>\n",
              "      <td>5</td>\n",
              "      <td>8</td>\n",
              "      <td>76</td>\n",
              "      <td>1</td>\n",
              "      <td>-1</td>\n",
              "      <td>0</td>\n",
              "      <td>3</td>\n",
              "      <td>0</td>\n",
              "    </tr>\n",
              "    <tr>\n",
              "      <th>3</th>\n",
              "      <td>47</td>\n",
              "      <td>1</td>\n",
              "      <td>1</td>\n",
              "      <td>3</td>\n",
              "      <td>0</td>\n",
              "      <td>1506</td>\n",
              "      <td>1</td>\n",
              "      <td>0</td>\n",
              "      <td>2</td>\n",
              "      <td>5</td>\n",
              "      <td>8</td>\n",
              "      <td>92</td>\n",
              "      <td>1</td>\n",
              "      <td>-1</td>\n",
              "      <td>0</td>\n",
              "      <td>3</td>\n",
              "      <td>0</td>\n",
              "    </tr>\n",
              "    <tr>\n",
              "      <th>4</th>\n",
              "      <td>33</td>\n",
              "      <td>11</td>\n",
              "      <td>2</td>\n",
              "      <td>3</td>\n",
              "      <td>0</td>\n",
              "      <td>1</td>\n",
              "      <td>0</td>\n",
              "      <td>0</td>\n",
              "      <td>2</td>\n",
              "      <td>5</td>\n",
              "      <td>8</td>\n",
              "      <td>198</td>\n",
              "      <td>1</td>\n",
              "      <td>-1</td>\n",
              "      <td>0</td>\n",
              "      <td>3</td>\n",
              "      <td>0</td>\n",
              "    </tr>\n",
              "    <tr>\n",
              "      <th>...</th>\n",
              "      <td>...</td>\n",
              "      <td>...</td>\n",
              "      <td>...</td>\n",
              "      <td>...</td>\n",
              "      <td>...</td>\n",
              "      <td>...</td>\n",
              "      <td>...</td>\n",
              "      <td>...</td>\n",
              "      <td>...</td>\n",
              "      <td>...</td>\n",
              "      <td>...</td>\n",
              "      <td>...</td>\n",
              "      <td>...</td>\n",
              "      <td>...</td>\n",
              "      <td>...</td>\n",
              "      <td>...</td>\n",
              "      <td>...</td>\n",
              "    </tr>\n",
              "    <tr>\n",
              "      <th>45206</th>\n",
              "      <td>51</td>\n",
              "      <td>9</td>\n",
              "      <td>1</td>\n",
              "      <td>2</td>\n",
              "      <td>0</td>\n",
              "      <td>825</td>\n",
              "      <td>0</td>\n",
              "      <td>0</td>\n",
              "      <td>0</td>\n",
              "      <td>17</td>\n",
              "      <td>9</td>\n",
              "      <td>977</td>\n",
              "      <td>3</td>\n",
              "      <td>-1</td>\n",
              "      <td>0</td>\n",
              "      <td>3</td>\n",
              "      <td>1</td>\n",
              "    </tr>\n",
              "    <tr>\n",
              "      <th>45207</th>\n",
              "      <td>71</td>\n",
              "      <td>5</td>\n",
              "      <td>0</td>\n",
              "      <td>0</td>\n",
              "      <td>0</td>\n",
              "      <td>1729</td>\n",
              "      <td>0</td>\n",
              "      <td>0</td>\n",
              "      <td>0</td>\n",
              "      <td>17</td>\n",
              "      <td>9</td>\n",
              "      <td>456</td>\n",
              "      <td>2</td>\n",
              "      <td>-1</td>\n",
              "      <td>0</td>\n",
              "      <td>3</td>\n",
              "      <td>1</td>\n",
              "    </tr>\n",
              "    <tr>\n",
              "      <th>45208</th>\n",
              "      <td>72</td>\n",
              "      <td>5</td>\n",
              "      <td>1</td>\n",
              "      <td>1</td>\n",
              "      <td>0</td>\n",
              "      <td>5715</td>\n",
              "      <td>0</td>\n",
              "      <td>0</td>\n",
              "      <td>0</td>\n",
              "      <td>17</td>\n",
              "      <td>9</td>\n",
              "      <td>1127</td>\n",
              "      <td>5</td>\n",
              "      <td>184</td>\n",
              "      <td>3</td>\n",
              "      <td>2</td>\n",
              "      <td>1</td>\n",
              "    </tr>\n",
              "    <tr>\n",
              "      <th>45209</th>\n",
              "      <td>57</td>\n",
              "      <td>1</td>\n",
              "      <td>1</td>\n",
              "      <td>1</td>\n",
              "      <td>0</td>\n",
              "      <td>668</td>\n",
              "      <td>0</td>\n",
              "      <td>0</td>\n",
              "      <td>1</td>\n",
              "      <td>17</td>\n",
              "      <td>9</td>\n",
              "      <td>508</td>\n",
              "      <td>4</td>\n",
              "      <td>-1</td>\n",
              "      <td>0</td>\n",
              "      <td>3</td>\n",
              "      <td>0</td>\n",
              "    </tr>\n",
              "    <tr>\n",
              "      <th>45210</th>\n",
              "      <td>37</td>\n",
              "      <td>2</td>\n",
              "      <td>1</td>\n",
              "      <td>1</td>\n",
              "      <td>0</td>\n",
              "      <td>2971</td>\n",
              "      <td>0</td>\n",
              "      <td>0</td>\n",
              "      <td>0</td>\n",
              "      <td>17</td>\n",
              "      <td>9</td>\n",
              "      <td>361</td>\n",
              "      <td>2</td>\n",
              "      <td>188</td>\n",
              "      <td>11</td>\n",
              "      <td>1</td>\n",
              "      <td>0</td>\n",
              "    </tr>\n",
              "  </tbody>\n",
              "</table>\n",
              "<p>45211 rows × 17 columns</p>\n",
              "</div>"
            ],
            "text/plain": [
              "       age job marital education default  ...  campaign pdays previous poutcome  y\n",
              "0       58   4       1         2       0  ...         1    -1        0        3  0\n",
              "1       44   9       2         1       0  ...         1    -1        0        3  0\n",
              "2       33   2       1         1       0  ...         1    -1        0        3  0\n",
              "3       47   1       1         3       0  ...         1    -1        0        3  0\n",
              "4       33  11       2         3       0  ...         1    -1        0        3  0\n",
              "...    ...  ..     ...       ...     ...  ...       ...   ...      ...      ... ..\n",
              "45206   51   9       1         2       0  ...         3    -1        0        3  1\n",
              "45207   71   5       0         0       0  ...         2    -1        0        3  1\n",
              "45208   72   5       1         1       0  ...         5   184        3        2  1\n",
              "45209   57   1       1         1       0  ...         4    -1        0        3  0\n",
              "45210   37   2       1         1       0  ...         2   188       11        1  0\n",
              "\n",
              "[45211 rows x 17 columns]"
            ]
          },
          "metadata": {
            "tags": []
          },
          "execution_count": 201
        }
      ]
    },
    {
      "cell_type": "markdown",
      "metadata": {
        "id": "YiW4IlNQirkN"
      },
      "source": [
        "#Task1\n",
        "Построить модель распознавания отклика"
      ]
    },
    {
      "cell_type": "markdown",
      "metadata": {
        "id": "kbdJTpt41-0P"
      },
      "source": [
        "Делим на отклик и предикторы. Стандартизируем предикторы"
      ]
    },
    {
      "cell_type": "code",
      "metadata": {
        "id": "1X3qbCPCil1N"
      },
      "source": [
        "X = df1.iloc[:, :-1].values  \n",
        "x = pd.DataFrame((preprocessing.StandardScaler().fit_transform(X)).astype('float64'))\n",
        "y = df1.iloc[:, 16].values.astype('int64')  \n",
        "X_train, X_holdout, y_train, y_holdout = train_test_split(x,y, test_size=0.3,random_state=17)"
      ],
      "execution_count": null,
      "outputs": []
    },
    {
      "cell_type": "markdown",
      "metadata": {
        "id": "bXStJ-Sy2IJ9"
      },
      "source": [
        "Ищем лучшие параметры с помощью GridSearchCv"
      ]
    },
    {
      "cell_type": "code",
      "metadata": {
        "colab": {
          "base_uri": "https://localhost:8080/"
        },
        "id": "Z2KYLroei1-D",
        "outputId": "8780f8f5-22c3-4d44-c7ec-21429f1e0984"
      },
      "source": [
        "from sklearn.ensemble import GradientBoostingClassifier\n",
        "grid_param = {  \n",
        "    'n_estimators': [100, 500, 1000],\n",
        "    'max_depth': [3, 4, 6]\n",
        "}\n",
        "\n",
        "model = XGBClassifier(random_state=17)\n",
        "xgb_res = GridSearchCV(error_score='raise',\n",
        "                        estimator=model, param_grid=grid_param, cv=5, \n",
        "                               pre_dispatch='2*n_jobs', refit=True, scoring='accuracy', verbose=0)\n",
        "\n",
        "xgb_res.fit(X_train, y_train)\n",
        "\n",
        "xgb_res.best_params_, xgb_res.best_score_"
      ],
      "execution_count": null,
      "outputs": [
        {
          "output_type": "execute_result",
          "data": {
            "text/plain": [
              "({'max_depth': 3, 'n_estimators': 1000}, 0.9083011199730822)"
            ]
          },
          "metadata": {
            "tags": []
          },
          "execution_count": 285
        }
      ]
    },
    {
      "cell_type": "code",
      "metadata": {
        "colab": {
          "base_uri": "https://localhost:8080/"
        },
        "id": "kMxFAW8ji6-6",
        "outputId": "edc8afc7-9230-41bf-edc0-d9fc7ddaae79"
      },
      "source": [
        "#Тренируем модель на полученных параметрах\n",
        "xgb_res.fit(X_train, y_train)"
      ],
      "execution_count": null,
      "outputs": [
        {
          "output_type": "execute_result",
          "data": {
            "text/plain": [
              "GridSearchCV(cv=5, error_score='raise',\n",
              "             estimator=XGBClassifier(base_score=0.5, booster='gbtree',\n",
              "                                     colsample_bylevel=1, colsample_bynode=1,\n",
              "                                     colsample_bytree=1, gamma=0,\n",
              "                                     learning_rate=0.1, max_delta_step=0,\n",
              "                                     max_depth=3, min_child_weight=1,\n",
              "                                     missing=None, n_estimators=100, n_jobs=1,\n",
              "                                     nthread=None, objective='binary:logistic',\n",
              "                                     random_state=17, reg_alpha=0, reg_lambda=1,\n",
              "                                     scale_pos_weight=1, seed=None, silent=None,\n",
              "                                     subsample=1, verbosity=1),\n",
              "             iid='deprecated', n_jobs=None,\n",
              "             param_grid={'max_depth': [3, 4, 6],\n",
              "                         'n_estimators': [100, 500, 1000]},\n",
              "             pre_dispatch='2*n_jobs', refit=True, return_train_score=False,\n",
              "             scoring='accuracy', verbose=0)"
            ]
          },
          "metadata": {
            "tags": []
          },
          "execution_count": 286
        }
      ]
    },
    {
      "cell_type": "markdown",
      "metadata": {
        "id": "OTax0Tap2Qsi"
      },
      "source": [
        "Проверим, нужна ли калибровка"
      ]
    },
    {
      "cell_type": "code",
      "metadata": {
        "colab": {
          "base_uri": "https://localhost:8080/",
          "height": 265
        },
        "id": "tzJO1dWUi93_",
        "outputId": "01366ee4-f977-4c76-bb49-3868ac1ea086"
      },
      "source": [
        "from sklearn.calibration import calibration_curve\n",
        "from matplotlib import pyplot\n",
        "probs = xgb_res.predict_proba(X_holdout)[:,1]\n",
        "fop, mpv = calibration_curve(y_holdout, probs, n_bins=10)\n",
        "# plot perfectly calibrated\n",
        "pyplot.plot([0, 1], [0, 1], linestyle='--')\n",
        "# plot model reliability\n",
        "pyplot.plot(mpv, fop, marker='.')\n",
        "pyplot.show()"
      ],
      "execution_count": null,
      "outputs": [
        {
          "output_type": "display_data",
          "data": {
            "image/png": "[encoded data removed]",
            "text/plain": [
              "<Figure size 432x288 with 1 Axes>"
            ]
          },
          "metadata": {
            "tags": [],
            "needs_background": "light"
          }
        }
      ]
    },
    {
      "cell_type": "markdown",
      "metadata": {
        "id": "ZEHP1x-xo3wH"
      },
      "source": [
        "Отклонения имеются, но не критичные. Калибровка не нужна"
      ]
    },
    {
      "cell_type": "markdown",
      "metadata": {
        "id": "emO7LFboxPCJ"
      },
      "source": [
        "#Часть 2 "
      ]
    },
    {
      "cell_type": "code",
      "metadata": {
        "id": "ToHlNPm7xPjs"
      },
      "source": [
        "from factor_analyzer import FactorAnalyzer\n",
        "from sklearn.decomposition import PCA"
      ],
      "execution_count": null,
      "outputs": []
    },
    {
      "cell_type": "markdown",
      "metadata": {
        "id": "zJbEiUIGynVQ"
      },
      "source": [
        " Посмотрим на собственные числа, чтобы определить число главных компонент. Будем сравнивать их с 1 (критерий Кайзера)"
      ]
    },
    {
      "cell_type": "code",
      "metadata": {
        "colab": {
          "base_uri": "https://localhost:8080/"
        },
        "id": "usvWAjw1yNWV",
        "outputId": "4bbdd128-5ee5-42b8-ab2a-4a71d96d1cac"
      },
      "source": [
        "pca = PCA(n_components=16)\n",
        "zzz = pca.fit(x)\n",
        "print((pca.explained_variance_ratio_ * x.shape[1]).round(2))"
      ],
      "execution_count": null,
      "outputs": [
        {
          "output_type": "stream",
          "text": [
            "[2.38 1.69 1.49 1.22 1.13 1.01 0.98 0.93 0.91 0.84 0.82 0.77 0.62 0.55\n",
            " 0.52 0.14]\n"
          ],
          "name": "stdout"
        }
      ]
    },
    {
      "cell_type": "markdown",
      "metadata": {
        "id": "aOnRqX3eytBJ"
      },
      "source": [
        "Надо оставить 6 факторов"
      ]
    },
    {
      "cell_type": "code",
      "metadata": {
        "id": "W-tc629XxeuR"
      },
      "source": [
        "fa = FactorAnalyzer( n_factors = 6, rotation='varimax',  method = 'minres', \n",
        "                    impute = 'mean',  is_corr_matrix=  False)"
      ],
      "execution_count": null,
      "outputs": []
    },
    {
      "cell_type": "markdown",
      "metadata": {
        "id": "HIDhBWFRTScE"
      },
      "source": [
        "Тренируем "
      ]
    },
    {
      "cell_type": "code",
      "metadata": {
        "colab": {
          "base_uri": "https://localhost:8080/"
        },
        "id": "eb2fADCXxjIo",
        "outputId": "1777b42a-ff18-4714-ecd6-24db2df5fc3d"
      },
      "source": [
        "fa.fit(x)"
      ],
      "execution_count": null,
      "outputs": [
        {
          "output_type": "execute_result",
          "data": {
            "text/plain": [
              "FactorAnalyzer(bounds=(0.005, 1), impute='mean', is_corr_matrix=False,\n",
              "               method='minres', n_factors=6, rotation='varimax',\n",
              "               rotation_kwargs={}, use_smc=True)"
            ]
          },
          "metadata": {
            "tags": []
          },
          "execution_count": 347
        }
      ]
    },
    {
      "cell_type": "markdown",
      "metadata": {
        "id": "ADK0SlVJTUQR"
      },
      "source": [
        "Смотрим распределение факторов"
      ]
    },
    {
      "cell_type": "code",
      "metadata": {
        "colab": {
          "base_uri": "https://localhost:8080/",
          "height": 286
        },
        "id": "TmE93veBx8XL",
        "outputId": "c5d476b6-7992-4a84-e849-71cae710e6ec"
      },
      "source": [
        "dfff = pd.DataFrame(X)\n",
        "faLoadingsV = pd.DataFrame(np.vstack((fa.loadings_.T, fa.get_uniquenesses())),\n",
        "                          index = ['Factor 1', 'Factor 2', 'Factor 3', 'Factor 4', 'Factor 5', 'Factor 6',\n",
        "                                   'Уникальность'], \n",
        "                           columns = list(df1.iloc[:, :-1].columns.values))\n",
        "faLoadingsV.round(3)"
      ],
      "execution_count": null,
      "outputs": [
        {
          "output_type": "execute_result",
          "data": {
            "text/html": [
              "<div>\n",
              "<style scoped>\n",
              "    .dataframe tbody tr th:only-of-type {\n",
              "        vertical-align: middle;\n",
              "    }\n",
              "\n",
              "    .dataframe tbody tr th {\n",
              "        vertical-align: top;\n",
              "    }\n",
              "\n",
              "    .dataframe thead th {\n",
              "        text-align: right;\n",
              "    }\n",
              "</style>\n",
              "<table border=\"1\" class=\"dataframe\">\n",
              "  <thead>\n",
              "    <tr style=\"text-align: right;\">\n",
              "      <th></th>\n",
              "      <th>age</th>\n",
              "      <th>job</th>\n",
              "      <th>marital</th>\n",
              "      <th>education</th>\n",
              "      <th>default</th>\n",
              "      <th>balance</th>\n",
              "      <th>housing</th>\n",
              "      <th>loan</th>\n",
              "      <th>contact</th>\n",
              "      <th>day</th>\n",
              "      <th>month</th>\n",
              "      <th>duration</th>\n",
              "      <th>campaign</th>\n",
              "      <th>pdays</th>\n",
              "      <th>previous</th>\n",
              "      <th>poutcome</th>\n",
              "    </tr>\n",
              "  </thead>\n",
              "  <tbody>\n",
              "    <tr>\n",
              "      <th>Factor 1</th>\n",
              "      <td>-0.006</td>\n",
              "      <td>-0.013</td>\n",
              "      <td>0.011</td>\n",
              "      <td>0.022</td>\n",
              "      <td>-0.025</td>\n",
              "      <td>0.011</td>\n",
              "      <td>0.115</td>\n",
              "      <td>-0.003</td>\n",
              "      <td>-0.272</td>\n",
              "      <td>-0.077</td>\n",
              "      <td>0.048</td>\n",
              "      <td>-0.010</td>\n",
              "      <td>-0.040</td>\n",
              "      <td>0.894</td>\n",
              "      <td>0.509</td>\n",
              "      <td>-0.954</td>\n",
              "    </tr>\n",
              "    <tr>\n",
              "      <th>Factor 2</th>\n",
              "      <td>0.988</td>\n",
              "      <td>-0.033</td>\n",
              "      <td>-0.412</td>\n",
              "      <td>-0.122</td>\n",
              "      <td>0.011</td>\n",
              "      <td>0.068</td>\n",
              "      <td>-0.144</td>\n",
              "      <td>0.032</td>\n",
              "      <td>0.045</td>\n",
              "      <td>-0.004</td>\n",
              "      <td>0.006</td>\n",
              "      <td>-0.011</td>\n",
              "      <td>-0.024</td>\n",
              "      <td>-0.028</td>\n",
              "      <td>0.000</td>\n",
              "      <td>0.006</td>\n",
              "    </tr>\n",
              "    <tr>\n",
              "      <th>Factor 3</th>\n",
              "      <td>0.014</td>\n",
              "      <td>0.018</td>\n",
              "      <td>-0.018</td>\n",
              "      <td>0.020</td>\n",
              "      <td>0.033</td>\n",
              "      <td>-0.024</td>\n",
              "      <td>-0.009</td>\n",
              "      <td>0.032</td>\n",
              "      <td>0.028</td>\n",
              "      <td>0.165</td>\n",
              "      <td>-0.059</td>\n",
              "      <td>-0.092</td>\n",
              "      <td>0.990</td>\n",
              "      <td>-0.063</td>\n",
              "      <td>-0.017</td>\n",
              "      <td>0.067</td>\n",
              "    </tr>\n",
              "    <tr>\n",
              "      <th>Factor 4</th>\n",
              "      <td>-0.061</td>\n",
              "      <td>-0.094</td>\n",
              "      <td>-0.008</td>\n",
              "      <td>-0.051</td>\n",
              "      <td>0.014</td>\n",
              "      <td>0.011</td>\n",
              "      <td>0.354</td>\n",
              "      <td>0.011</td>\n",
              "      <td>0.506</td>\n",
              "      <td>-0.015</td>\n",
              "      <td>0.732</td>\n",
              "      <td>-0.006</td>\n",
              "      <td>-0.066</td>\n",
              "      <td>-0.017</td>\n",
              "      <td>-0.009</td>\n",
              "      <td>0.023</td>\n",
              "    </tr>\n",
              "    <tr>\n",
              "      <th>Factor 5</th>\n",
              "      <td>-0.001</td>\n",
              "      <td>0.342</td>\n",
              "      <td>0.148</td>\n",
              "      <td>0.411</td>\n",
              "      <td>0.022</td>\n",
              "      <td>0.116</td>\n",
              "      <td>-0.261</td>\n",
              "      <td>-0.044</td>\n",
              "      <td>-0.168</td>\n",
              "      <td>0.068</td>\n",
              "      <td>-0.035</td>\n",
              "      <td>0.005</td>\n",
              "      <td>-0.059</td>\n",
              "      <td>-0.065</td>\n",
              "      <td>0.020</td>\n",
              "      <td>0.004</td>\n",
              "    </tr>\n",
              "    <tr>\n",
              "      <th>Factor 6</th>\n",
              "      <td>0.135</td>\n",
              "      <td>0.029</td>\n",
              "      <td>0.067</td>\n",
              "      <td>0.076</td>\n",
              "      <td>-0.224</td>\n",
              "      <td>0.255</td>\n",
              "      <td>-0.088</td>\n",
              "      <td>-0.339</td>\n",
              "      <td>0.029</td>\n",
              "      <td>-0.031</td>\n",
              "      <td>-0.013</td>\n",
              "      <td>0.039</td>\n",
              "      <td>0.071</td>\n",
              "      <td>0.036</td>\n",
              "      <td>0.032</td>\n",
              "      <td>-0.032</td>\n",
              "    </tr>\n",
              "    <tr>\n",
              "      <th>Уникальность</th>\n",
              "      <td>0.002</td>\n",
              "      <td>0.872</td>\n",
              "      <td>0.804</td>\n",
              "      <td>0.807</td>\n",
              "      <td>0.947</td>\n",
              "      <td>0.916</td>\n",
              "      <td>0.764</td>\n",
              "      <td>0.881</td>\n",
              "      <td>0.638</td>\n",
              "      <td>0.961</td>\n",
              "      <td>0.458</td>\n",
              "      <td>0.990</td>\n",
              "      <td>0.005</td>\n",
              "      <td>0.190</td>\n",
              "      <td>0.739</td>\n",
              "      <td>0.084</td>\n",
              "    </tr>\n",
              "  </tbody>\n",
              "</table>\n",
              "</div>"
            ],
            "text/plain": [
              "                age    job  marital  ...  pdays  previous  poutcome\n",
              "Factor 1     -0.006 -0.013    0.011  ...  0.894     0.509    -0.954\n",
              "Factor 2      0.988 -0.033   -0.412  ... -0.028     0.000     0.006\n",
              "Factor 3      0.014  0.018   -0.018  ... -0.063    -0.017     0.067\n",
              "Factor 4     -0.061 -0.094   -0.008  ... -0.017    -0.009     0.023\n",
              "Factor 5     -0.001  0.342    0.148  ... -0.065     0.020     0.004\n",
              "Factor 6      0.135  0.029    0.067  ...  0.036     0.032    -0.032\n",
              "Уникальность  0.002  0.872    0.804  ...  0.190     0.739     0.084\n",
              "\n",
              "[7 rows x 16 columns]"
            ]
          },
          "metadata": {
            "tags": []
          },
          "execution_count": 349
        }
      ]
    },
    {
      "cell_type": "markdown",
      "metadata": {
        "id": "RgkBLadbTXeK"
      },
      "source": [
        "Формируем факторы в качестве новых переменных"
      ]
    },
    {
      "cell_type": "code",
      "metadata": {
        "colab": {
          "base_uri": "https://localhost:8080/",
          "height": 419
        },
        "id": "ieVfjJS20-Dd",
        "outputId": "7def5ea4-f18e-49ca-e4d3-e0a64871fc9c"
      },
      "source": [
        "factors_2 = pd.DataFrame(fa.transform(x), columns = ['F1', 'F2','F3', 'F4','F5', 'F6'])\n",
        "factors_2"
      ],
      "execution_count": null,
      "outputs": [
        {
          "output_type": "execute_result",
          "data": {
            "text/html": [
              "<div>\n",
              "<style scoped>\n",
              "    .dataframe tbody tr th:only-of-type {\n",
              "        vertical-align: middle;\n",
              "    }\n",
              "\n",
              "    .dataframe tbody tr th {\n",
              "        vertical-align: top;\n",
              "    }\n",
              "\n",
              "    .dataframe thead th {\n",
              "        text-align: right;\n",
              "    }\n",
              "</style>\n",
              "<table border=\"1\" class=\"dataframe\">\n",
              "  <thead>\n",
              "    <tr style=\"text-align: right;\">\n",
              "      <th></th>\n",
              "      <th>F1</th>\n",
              "      <th>F2</th>\n",
              "      <th>F3</th>\n",
              "      <th>F4</th>\n",
              "      <th>F5</th>\n",
              "      <th>F6</th>\n",
              "    </tr>\n",
              "  </thead>\n",
              "  <tbody>\n",
              "    <tr>\n",
              "      <th>0</th>\n",
              "      <td>-0.447498</td>\n",
              "      <td>1.624014</td>\n",
              "      <td>-0.516665</td>\n",
              "      <td>1.023015</td>\n",
              "      <td>0.115500</td>\n",
              "      <td>0.488347</td>\n",
              "    </tr>\n",
              "    <tr>\n",
              "      <th>1</th>\n",
              "      <td>-0.472642</td>\n",
              "      <td>0.327560</td>\n",
              "      <td>-0.531897</td>\n",
              "      <td>0.999411</td>\n",
              "      <td>0.130059</td>\n",
              "      <td>0.248264</td>\n",
              "    </tr>\n",
              "    <tr>\n",
              "      <th>2</th>\n",
              "      <td>-0.449548</td>\n",
              "      <td>-0.572895</td>\n",
              "      <td>-0.515156</td>\n",
              "      <td>1.016900</td>\n",
              "      <td>-0.665762</td>\n",
              "      <td>-0.897343</td>\n",
              "    </tr>\n",
              "    <tr>\n",
              "      <th>3</th>\n",
              "      <td>-0.447778</td>\n",
              "      <td>0.596301</td>\n",
              "      <td>-0.515884</td>\n",
              "      <td>1.074253</td>\n",
              "      <td>0.264045</td>\n",
              "      <td>0.340258</td>\n",
              "    </tr>\n",
              "    <tr>\n",
              "      <th>4</th>\n",
              "      <td>-0.474449</td>\n",
              "      <td>-0.776937</td>\n",
              "      <td>-0.498570</td>\n",
              "      <td>0.792988</td>\n",
              "      <td>1.474560</td>\n",
              "      <td>0.337422</td>\n",
              "    </tr>\n",
              "    <tr>\n",
              "      <th>...</th>\n",
              "      <td>...</td>\n",
              "      <td>...</td>\n",
              "      <td>...</td>\n",
              "      <td>...</td>\n",
              "      <td>...</td>\n",
              "      <td>...</td>\n",
              "    </tr>\n",
              "    <tr>\n",
              "      <th>45206</th>\n",
              "      <td>-0.367360</td>\n",
              "      <td>0.910635</td>\n",
              "      <td>0.143847</td>\n",
              "      <td>0.315128</td>\n",
              "      <td>1.100968</td>\n",
              "      <td>0.380237</td>\n",
              "    </tr>\n",
              "    <tr>\n",
              "      <th>45207</th>\n",
              "      <td>-0.399967</td>\n",
              "      <td>2.832666</td>\n",
              "      <td>-0.196918</td>\n",
              "      <td>0.243130</td>\n",
              "      <td>-0.130433</td>\n",
              "      <td>0.293023</td>\n",
              "    </tr>\n",
              "    <tr>\n",
              "      <th>45208</th>\n",
              "      <td>0.940116</td>\n",
              "      <td>2.801209</td>\n",
              "      <td>0.775347</td>\n",
              "      <td>0.287507</td>\n",
              "      <td>0.333183</td>\n",
              "      <td>1.095743</td>\n",
              "    </tr>\n",
              "    <tr>\n",
              "      <th>45209</th>\n",
              "      <td>-0.390039</td>\n",
              "      <td>1.489587</td>\n",
              "      <td>0.428039</td>\n",
              "      <td>0.594631</td>\n",
              "      <td>-0.074227</td>\n",
              "      <td>0.404089</td>\n",
              "    </tr>\n",
              "    <tr>\n",
              "      <th>45210</th>\n",
              "      <td>1.695439</td>\n",
              "      <td>-0.384630</td>\n",
              "      <td>-0.178709</td>\n",
              "      <td>0.388692</td>\n",
              "      <td>0.145500</td>\n",
              "      <td>0.267854</td>\n",
              "    </tr>\n",
              "  </tbody>\n",
              "</table>\n",
              "<p>45211 rows × 6 columns</p>\n",
              "</div>"
            ],
            "text/plain": [
              "             F1        F2        F3        F4        F5        F6\n",
              "0     -0.447498  1.624014 -0.516665  1.023015  0.115500  0.488347\n",
              "1     -0.472642  0.327560 -0.531897  0.999411  0.130059  0.248264\n",
              "2     -0.449548 -0.572895 -0.515156  1.016900 -0.665762 -0.897343\n",
              "3     -0.447778  0.596301 -0.515884  1.074253  0.264045  0.340258\n",
              "4     -0.474449 -0.776937 -0.498570  0.792988  1.474560  0.337422\n",
              "...         ...       ...       ...       ...       ...       ...\n",
              "45206 -0.367360  0.910635  0.143847  0.315128  1.100968  0.380237\n",
              "45207 -0.399967  2.832666 -0.196918  0.243130 -0.130433  0.293023\n",
              "45208  0.940116  2.801209  0.775347  0.287507  0.333183  1.095743\n",
              "45209 -0.390039  1.489587  0.428039  0.594631 -0.074227  0.404089\n",
              "45210  1.695439 -0.384630 -0.178709  0.388692  0.145500  0.267854\n",
              "\n",
              "[45211 rows x 6 columns]"
            ]
          },
          "metadata": {
            "tags": []
          },
          "execution_count": 352
        }
      ]
    },
    {
      "cell_type": "markdown",
      "metadata": {
        "id": "ZCKeTlANTbQ5"
      },
      "source": [
        "Собираем предыдущие предикторы и факторы для работы с новой моделью"
      ]
    },
    {
      "cell_type": "code",
      "metadata": {
        "colab": {
          "base_uri": "https://localhost:8080/",
          "height": 439
        },
        "id": "e3YFtvG-1VwG",
        "outputId": "eedd8d69-0c8a-4daf-9182-13532cd84751"
      },
      "source": [
        "X = pd.DataFrame(X)\n",
        "df_full = X.merge(factors_2, left_index=True, right_index=True)\n",
        "df_full"
      ],
      "execution_count": null,
      "outputs": [
        {
          "output_type": "execute_result",
          "data": {
            "text/html": [
              "<div>\n",
              "<style scoped>\n",
              "    .dataframe tbody tr th:only-of-type {\n",
              "        vertical-align: middle;\n",
              "    }\n",
              "\n",
              "    .dataframe tbody tr th {\n",
              "        vertical-align: top;\n",
              "    }\n",
              "\n",
              "    .dataframe thead th {\n",
              "        text-align: right;\n",
              "    }\n",
              "</style>\n",
              "<table border=\"1\" class=\"dataframe\">\n",
              "  <thead>\n",
              "    <tr style=\"text-align: right;\">\n",
              "      <th></th>\n",
              "      <th>0</th>\n",
              "      <th>1</th>\n",
              "      <th>2</th>\n",
              "      <th>3</th>\n",
              "      <th>4</th>\n",
              "      <th>5</th>\n",
              "      <th>6</th>\n",
              "      <th>7</th>\n",
              "      <th>8</th>\n",
              "      <th>9</th>\n",
              "      <th>10</th>\n",
              "      <th>11</th>\n",
              "      <th>12</th>\n",
              "      <th>13</th>\n",
              "      <th>14</th>\n",
              "      <th>15</th>\n",
              "      <th>F1</th>\n",
              "      <th>F2</th>\n",
              "      <th>F3</th>\n",
              "      <th>F4</th>\n",
              "      <th>F5</th>\n",
              "      <th>F6</th>\n",
              "    </tr>\n",
              "  </thead>\n",
              "  <tbody>\n",
              "    <tr>\n",
              "      <th>0</th>\n",
              "      <td>58</td>\n",
              "      <td>4</td>\n",
              "      <td>1</td>\n",
              "      <td>2</td>\n",
              "      <td>0</td>\n",
              "      <td>2143</td>\n",
              "      <td>1</td>\n",
              "      <td>0</td>\n",
              "      <td>2</td>\n",
              "      <td>5</td>\n",
              "      <td>8</td>\n",
              "      <td>261</td>\n",
              "      <td>1</td>\n",
              "      <td>-1</td>\n",
              "      <td>0</td>\n",
              "      <td>3</td>\n",
              "      <td>-0.447498</td>\n",
              "      <td>1.624014</td>\n",
              "      <td>-0.516665</td>\n",
              "      <td>1.023015</td>\n",
              "      <td>0.115500</td>\n",
              "      <td>0.488347</td>\n",
              "    </tr>\n",
              "    <tr>\n",
              "      <th>1</th>\n",
              "      <td>44</td>\n",
              "      <td>9</td>\n",
              "      <td>2</td>\n",
              "      <td>1</td>\n",
              "      <td>0</td>\n",
              "      <td>29</td>\n",
              "      <td>1</td>\n",
              "      <td>0</td>\n",
              "      <td>2</td>\n",
              "      <td>5</td>\n",
              "      <td>8</td>\n",
              "      <td>151</td>\n",
              "      <td>1</td>\n",
              "      <td>-1</td>\n",
              "      <td>0</td>\n",
              "      <td>3</td>\n",
              "      <td>-0.472642</td>\n",
              "      <td>0.327560</td>\n",
              "      <td>-0.531897</td>\n",
              "      <td>0.999411</td>\n",
              "      <td>0.130059</td>\n",
              "      <td>0.248264</td>\n",
              "    </tr>\n",
              "    <tr>\n",
              "      <th>2</th>\n",
              "      <td>33</td>\n",
              "      <td>2</td>\n",
              "      <td>1</td>\n",
              "      <td>1</td>\n",
              "      <td>0</td>\n",
              "      <td>2</td>\n",
              "      <td>1</td>\n",
              "      <td>1</td>\n",
              "      <td>2</td>\n",
              "      <td>5</td>\n",
              "      <td>8</td>\n",
              "      <td>76</td>\n",
              "      <td>1</td>\n",
              "      <td>-1</td>\n",
              "      <td>0</td>\n",
              "      <td>3</td>\n",
              "      <td>-0.449548</td>\n",
              "      <td>-0.572895</td>\n",
              "      <td>-0.515156</td>\n",
              "      <td>1.016900</td>\n",
              "      <td>-0.665762</td>\n",
              "      <td>-0.897343</td>\n",
              "    </tr>\n",
              "    <tr>\n",
              "      <th>3</th>\n",
              "      <td>47</td>\n",
              "      <td>1</td>\n",
              "      <td>1</td>\n",
              "      <td>3</td>\n",
              "      <td>0</td>\n",
              "      <td>1506</td>\n",
              "      <td>1</td>\n",
              "      <td>0</td>\n",
              "      <td>2</td>\n",
              "      <td>5</td>\n",
              "      <td>8</td>\n",
              "      <td>92</td>\n",
              "      <td>1</td>\n",
              "      <td>-1</td>\n",
              "      <td>0</td>\n",
              "      <td>3</td>\n",
              "      <td>-0.447778</td>\n",
              "      <td>0.596301</td>\n",
              "      <td>-0.515884</td>\n",
              "      <td>1.074253</td>\n",
              "      <td>0.264045</td>\n",
              "      <td>0.340258</td>\n",
              "    </tr>\n",
              "    <tr>\n",
              "      <th>4</th>\n",
              "      <td>33</td>\n",
              "      <td>11</td>\n",
              "      <td>2</td>\n",
              "      <td>3</td>\n",
              "      <td>0</td>\n",
              "      <td>1</td>\n",
              "      <td>0</td>\n",
              "      <td>0</td>\n",
              "      <td>2</td>\n",
              "      <td>5</td>\n",
              "      <td>8</td>\n",
              "      <td>198</td>\n",
              "      <td>1</td>\n",
              "      <td>-1</td>\n",
              "      <td>0</td>\n",
              "      <td>3</td>\n",
              "      <td>-0.474449</td>\n",
              "      <td>-0.776937</td>\n",
              "      <td>-0.498570</td>\n",
              "      <td>0.792988</td>\n",
              "      <td>1.474560</td>\n",
              "      <td>0.337422</td>\n",
              "    </tr>\n",
              "    <tr>\n",
              "      <th>...</th>\n",
              "      <td>...</td>\n",
              "      <td>...</td>\n",
              "      <td>...</td>\n",
              "      <td>...</td>\n",
              "      <td>...</td>\n",
              "      <td>...</td>\n",
              "      <td>...</td>\n",
              "      <td>...</td>\n",
              "      <td>...</td>\n",
              "      <td>...</td>\n",
              "      <td>...</td>\n",
              "      <td>...</td>\n",
              "      <td>...</td>\n",
              "      <td>...</td>\n",
              "      <td>...</td>\n",
              "      <td>...</td>\n",
              "      <td>...</td>\n",
              "      <td>...</td>\n",
              "      <td>...</td>\n",
              "      <td>...</td>\n",
              "      <td>...</td>\n",
              "      <td>...</td>\n",
              "    </tr>\n",
              "    <tr>\n",
              "      <th>45206</th>\n",
              "      <td>51</td>\n",
              "      <td>9</td>\n",
              "      <td>1</td>\n",
              "      <td>2</td>\n",
              "      <td>0</td>\n",
              "      <td>825</td>\n",
              "      <td>0</td>\n",
              "      <td>0</td>\n",
              "      <td>0</td>\n",
              "      <td>17</td>\n",
              "      <td>9</td>\n",
              "      <td>977</td>\n",
              "      <td>3</td>\n",
              "      <td>-1</td>\n",
              "      <td>0</td>\n",
              "      <td>3</td>\n",
              "      <td>-0.367360</td>\n",
              "      <td>0.910635</td>\n",
              "      <td>0.143847</td>\n",
              "      <td>0.315128</td>\n",
              "      <td>1.100968</td>\n",
              "      <td>0.380237</td>\n",
              "    </tr>\n",
              "    <tr>\n",
              "      <th>45207</th>\n",
              "      <td>71</td>\n",
              "      <td>5</td>\n",
              "      <td>0</td>\n",
              "      <td>0</td>\n",
              "      <td>0</td>\n",
              "      <td>1729</td>\n",
              "      <td>0</td>\n",
              "      <td>0</td>\n",
              "      <td>0</td>\n",
              "      <td>17</td>\n",
              "      <td>9</td>\n",
              "      <td>456</td>\n",
              "      <td>2</td>\n",
              "      <td>-1</td>\n",
              "      <td>0</td>\n",
              "      <td>3</td>\n",
              "      <td>-0.399967</td>\n",
              "      <td>2.832666</td>\n",
              "      <td>-0.196918</td>\n",
              "      <td>0.243130</td>\n",
              "      <td>-0.130433</td>\n",
              "      <td>0.293023</td>\n",
              "    </tr>\n",
              "    <tr>\n",
              "      <th>45208</th>\n",
              "      <td>72</td>\n",
              "      <td>5</td>\n",
              "      <td>1</td>\n",
              "      <td>1</td>\n",
              "      <td>0</td>\n",
              "      <td>5715</td>\n",
              "      <td>0</td>\n",
              "      <td>0</td>\n",
              "      <td>0</td>\n",
              "      <td>17</td>\n",
              "      <td>9</td>\n",
              "      <td>1127</td>\n",
              "      <td>5</td>\n",
              "      <td>184</td>\n",
              "      <td>3</td>\n",
              "      <td>2</td>\n",
              "      <td>0.940116</td>\n",
              "      <td>2.801209</td>\n",
              "      <td>0.775347</td>\n",
              "      <td>0.287507</td>\n",
              "      <td>0.333183</td>\n",
              "      <td>1.095743</td>\n",
              "    </tr>\n",
              "    <tr>\n",
              "      <th>45209</th>\n",
              "      <td>57</td>\n",
              "      <td>1</td>\n",
              "      <td>1</td>\n",
              "      <td>1</td>\n",
              "      <td>0</td>\n",
              "      <td>668</td>\n",
              "      <td>0</td>\n",
              "      <td>0</td>\n",
              "      <td>1</td>\n",
              "      <td>17</td>\n",
              "      <td>9</td>\n",
              "      <td>508</td>\n",
              "      <td>4</td>\n",
              "      <td>-1</td>\n",
              "      <td>0</td>\n",
              "      <td>3</td>\n",
              "      <td>-0.390039</td>\n",
              "      <td>1.489587</td>\n",
              "      <td>0.428039</td>\n",
              "      <td>0.594631</td>\n",
              "      <td>-0.074227</td>\n",
              "      <td>0.404089</td>\n",
              "    </tr>\n",
              "    <tr>\n",
              "      <th>45210</th>\n",
              "      <td>37</td>\n",
              "      <td>2</td>\n",
              "      <td>1</td>\n",
              "      <td>1</td>\n",
              "      <td>0</td>\n",
              "      <td>2971</td>\n",
              "      <td>0</td>\n",
              "      <td>0</td>\n",
              "      <td>0</td>\n",
              "      <td>17</td>\n",
              "      <td>9</td>\n",
              "      <td>361</td>\n",
              "      <td>2</td>\n",
              "      <td>188</td>\n",
              "      <td>11</td>\n",
              "      <td>1</td>\n",
              "      <td>1.695439</td>\n",
              "      <td>-0.384630</td>\n",
              "      <td>-0.178709</td>\n",
              "      <td>0.388692</td>\n",
              "      <td>0.145500</td>\n",
              "      <td>0.267854</td>\n",
              "    </tr>\n",
              "  </tbody>\n",
              "</table>\n",
              "<p>45211 rows × 22 columns</p>\n",
              "</div>"
            ],
            "text/plain": [
              "        0   1  2  3  4  ...        F2        F3        F4        F5        F6\n",
              "0      58   4  1  2  0  ...  1.624014 -0.516665  1.023015  0.115500  0.488347\n",
              "1      44   9  2  1  0  ...  0.327560 -0.531897  0.999411  0.130059  0.248264\n",
              "2      33   2  1  1  0  ... -0.572895 -0.515156  1.016900 -0.665762 -0.897343\n",
              "3      47   1  1  3  0  ...  0.596301 -0.515884  1.074253  0.264045  0.340258\n",
              "4      33  11  2  3  0  ... -0.776937 -0.498570  0.792988  1.474560  0.337422\n",
              "...    ..  .. .. .. ..  ...       ...       ...       ...       ...       ...\n",
              "45206  51   9  1  2  0  ...  0.910635  0.143847  0.315128  1.100968  0.380237\n",
              "45207  71   5  0  0  0  ...  2.832666 -0.196918  0.243130 -0.130433  0.293023\n",
              "45208  72   5  1  1  0  ...  2.801209  0.775347  0.287507  0.333183  1.095743\n",
              "45209  57   1  1  1  0  ...  1.489587  0.428039  0.594631 -0.074227  0.404089\n",
              "45210  37   2  1  1  0  ... -0.384630 -0.178709  0.388692  0.145500  0.267854\n",
              "\n",
              "[45211 rows x 22 columns]"
            ]
          },
          "metadata": {
            "tags": []
          },
          "execution_count": 353
        }
      ]
    },
    {
      "cell_type": "markdown",
      "metadata": {
        "id": "2GQxjCA-1ZqA"
      },
      "source": [
        "#Проверка улучшения модели"
      ]
    },
    {
      "cell_type": "markdown",
      "metadata": {
        "id": "xP3qbkpNTgsC"
      },
      "source": [
        "Модель для нового датасета с факторами"
      ]
    },
    {
      "cell_type": "code",
      "metadata": {
        "id": "UfJX_Ic_BRia"
      },
      "source": [
        "#X = df.iloc[:, :-1].values  \n",
        "x1 = pd.DataFrame((preprocessing.StandardScaler().fit_transform(df_full)).astype('float64'))\n",
        "#y1 = df1.iloc[:, 16].values.astype('int64')  \n",
        "X_train1, X_holdout1, y_train1, y_holdout1 = train_test_split(x1,y, test_size=0.3,random_state=17)"
      ],
      "execution_count": null,
      "outputs": []
    },
    {
      "cell_type": "code",
      "metadata": {
        "colab": {
          "base_uri": "https://localhost:8080/"
        },
        "id": "QERZm3WeBI6n",
        "outputId": "537bb9b7-f227-4d8c-ab1e-fb4a75e23f70"
      },
      "source": [
        "from sklearn.ensemble import GradientBoostingClassifier\n",
        "\n",
        "xgb_res1 = GridSearchCV(error_score='raise',\n",
        "                        estimator=model, param_grid=grid_param, cv=2, \n",
        "                               pre_dispatch='2*n_jobs', refit=True, scoring='accuracy', verbose=0)\n",
        "\n",
        "xgb_res1.fit(X_train1, y_train1)\n",
        "\n",
        "xgb_res1.best_params_, xgb_res1.best_score_"
      ],
      "execution_count": null,
      "outputs": [
        {
          "output_type": "execute_result",
          "data": {
            "text/plain": [
              "({'max_depth': 3, 'n_estimators': 500}, 0.904983175545294)"
            ]
          },
          "metadata": {
            "tags": []
          },
          "execution_count": 355
        }
      ]
    },
    {
      "cell_type": "code",
      "metadata": {
        "colab": {
          "base_uri": "https://localhost:8080/",
          "height": 265
        },
        "id": "w5SVL10fC9_n",
        "outputId": "a8581ba3-cd66-4a7e-b6ad-fb9c53d6316d"
      },
      "source": [
        "probs = xgb_res1.predict_proba(X_holdout1)[:,1]\n",
        "fop, mpv = calibration_curve(y_holdout1, probs, n_bins=10)\n",
        "# plot perfectly calibrated\n",
        "pyplot.plot([0, 1], [0, 1], linestyle='--')\n",
        "# plot model reliability\n",
        "pyplot.plot(mpv, fop, marker='.')\n",
        "pyplot.show()"
      ],
      "execution_count": null,
      "outputs": [
        {
          "output_type": "display_data",
          "data": {
            "image/png": "[encoded data removed]",
            "text/plain": [
              "<Figure size 432x288 with 1 Axes>"
            ]
          },
          "metadata": {
            "tags": [],
            "needs_background": "light"
          }
        }
      ]
    },
    {
      "cell_type": "markdown",
      "metadata": {
        "id": "MhAloI52Tl9j"
      },
      "source": [
        "Точности"
      ]
    },
    {
      "cell_type": "code",
      "metadata": {
        "colab": {
          "base_uri": "https://localhost:8080/"
        },
        "id": "X_bAkMXC1dWx",
        "outputId": "745c5876-4573-49ce-8f0f-fd85b4d56286"
      },
      "source": [
        "print('Befor factor ', accuracy_score(y_holdout, xgb_res.predict(X_holdout)))\n",
        "print('After factor ', accuracy_score(y_holdout1, xgb_res1.predict(X_holdout1)))"
      ],
      "execution_count": null,
      "outputs": [
        {
          "output_type": "stream",
          "text": [
            "Befor factor  0.9060749041580655\n",
            "After factor  0.9070333235033913\n"
          ],
          "name": "stdout"
        }
      ]
    }
  ]
}