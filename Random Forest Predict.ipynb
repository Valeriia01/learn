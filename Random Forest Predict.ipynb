{
  "nbformat": 4,
  "nbformat_minor": 0,
  "metadata": {
    "kernelspec": {
      "display_name": "Python 3",
      "language": "python",
      "name": "python3"
    },
    "language_info": {
      "codemirror_mode": {
        "name": "ipython",
        "version": 3
      },
      "file_extension": ".py",
      "mimetype": "text/x-python",
      "name": "python",
      "nbconvert_exporter": "python",
      "pygments_lexer": "ipython3",
      "version": "3.7.4"
    },
    "colab": {
      "provenance": [],
      "collapsed_sections": []
    }
  },
  "cells": [
    {
      "cell_type": "markdown",
      "metadata": {
        "id": "ZhmU5IDfReH8"
      },
      "source": [
        "\n",
        "Прогнозирование с помощью случайного леса "
      ]
    },
    {
      "cell_type": "code",
      "metadata": {
        "id": "FswX7lh6ReIA"
      },
      "source": [
        "import pandas as pd\n",
        "import numpy as np\n",
        "import matplotlib\n",
        "import matplotlib.pyplot as plt\n",
        "matplotlib.style.use('ggplot')\n",
        "%matplotlib inline\n",
        "from sklearn.ensemble import RandomForestRegressor\n",
        "from sklearn import model_selection\n",
        "from sklearn import metrics"
      ],
      "execution_count": null,
      "outputs": []
    },
    {
      "cell_type": "markdown",
      "metadata": {
        "id": "NatCSaoCv7WJ"
      },
      "source": [
        "Было принято решение прогнозировать столбец rose"
      ]
    },
    {
      "cell_type": "code",
      "metadata": {
        "id": "JIuYNTbNReID",
        "colab": {
          "base_uri": "https://localhost:8080/",
          "height": 419
        },
        "outputId": "66110692-4d16-4ee5-a137-8c31dbc57f53"
      },
      "source": [
        "df = pd.read_csv('wine_Austral2.dat', sep=\"\\t\")\n",
        "df"
      ],
      "execution_count": null,
      "outputs": [
        {
          "output_type": "execute_result",
          "data": {
            "text/html": [
              "<div>\n",
              "<style scoped>\n",
              "    .dataframe tbody tr th:only-of-type {\n",
              "        vertical-align: middle;\n",
              "    }\n",
              "\n",
              "    .dataframe tbody tr th {\n",
              "        vertical-align: top;\n",
              "    }\n",
              "\n",
              "    .dataframe thead th {\n",
              "        text-align: right;\n",
              "    }\n",
              "</style>\n",
              "<table border=\"1\" class=\"dataframe\">\n",
              "  <thead>\n",
              "    <tr style=\"text-align: right;\">\n",
              "      <th></th>\n",
              "      <th>fort</th>\n",
              "      <th>dry</th>\n",
              "      <th>sweet</th>\n",
              "      <th>red</th>\n",
              "      <th>rose</th>\n",
              "      <th>spark</th>\n",
              "      <th>total</th>\n",
              "      <th>year_</th>\n",
              "      <th>month_</th>\n",
              "      <th>date_</th>\n",
              "    </tr>\n",
              "  </thead>\n",
              "  <tbody>\n",
              "    <tr>\n",
              "      <th>0</th>\n",
              "      <td>2585</td>\n",
              "      <td>1954</td>\n",
              "      <td>85</td>\n",
              "      <td>464</td>\n",
              "      <td>112</td>\n",
              "      <td>1686</td>\n",
              "      <td>15136</td>\n",
              "      <td>1980</td>\n",
              "      <td>1</td>\n",
              "      <td>JAN 1980</td>\n",
              "    </tr>\n",
              "    <tr>\n",
              "      <th>1</th>\n",
              "      <td>3368</td>\n",
              "      <td>2302</td>\n",
              "      <td>89</td>\n",
              "      <td>675</td>\n",
              "      <td>118</td>\n",
              "      <td>1591</td>\n",
              "      <td>16733</td>\n",
              "      <td>1980</td>\n",
              "      <td>2</td>\n",
              "      <td>FEB 1980</td>\n",
              "    </tr>\n",
              "    <tr>\n",
              "      <th>2</th>\n",
              "      <td>3210</td>\n",
              "      <td>3054</td>\n",
              "      <td>109</td>\n",
              "      <td>703</td>\n",
              "      <td>129</td>\n",
              "      <td>2304</td>\n",
              "      <td>20016</td>\n",
              "      <td>1980</td>\n",
              "      <td>3</td>\n",
              "      <td>MAR 1980</td>\n",
              "    </tr>\n",
              "    <tr>\n",
              "      <th>3</th>\n",
              "      <td>3111</td>\n",
              "      <td>2414</td>\n",
              "      <td>95</td>\n",
              "      <td>887</td>\n",
              "      <td>99</td>\n",
              "      <td>1712</td>\n",
              "      <td>17708</td>\n",
              "      <td>1980</td>\n",
              "      <td>4</td>\n",
              "      <td>APR 1980</td>\n",
              "    </tr>\n",
              "    <tr>\n",
              "      <th>4</th>\n",
              "      <td>3756</td>\n",
              "      <td>2226</td>\n",
              "      <td>91</td>\n",
              "      <td>1139</td>\n",
              "      <td>116</td>\n",
              "      <td>1471</td>\n",
              "      <td>18019</td>\n",
              "      <td>1980</td>\n",
              "      <td>5</td>\n",
              "      <td>MAY 1980</td>\n",
              "    </tr>\n",
              "    <tr>\n",
              "      <th>...</th>\n",
              "      <td>...</td>\n",
              "      <td>...</td>\n",
              "      <td>...</td>\n",
              "      <td>...</td>\n",
              "      <td>...</td>\n",
              "      <td>...</td>\n",
              "      <td>...</td>\n",
              "      <td>...</td>\n",
              "      <td>...</td>\n",
              "      <td>...</td>\n",
              "    </tr>\n",
              "    <tr>\n",
              "      <th>169</th>\n",
              "      <td>1568</td>\n",
              "      <td>3685</td>\n",
              "      <td>280</td>\n",
              "      <td>1728</td>\n",
              "      <td>35</td>\n",
              "      <td>1968</td>\n",
              "      <td>22784</td>\n",
              "      <td>1994</td>\n",
              "      <td>2</td>\n",
              "      <td>FEB 1994</td>\n",
              "    </tr>\n",
              "    <tr>\n",
              "      <th>170</th>\n",
              "      <td>1965</td>\n",
              "      <td>3754</td>\n",
              "      <td>187</td>\n",
              "      <td>2201</td>\n",
              "      <td>42</td>\n",
              "      <td>1720</td>\n",
              "      <td>23565</td>\n",
              "      <td>1994</td>\n",
              "      <td>3</td>\n",
              "      <td>MAR 1994</td>\n",
              "    </tr>\n",
              "    <tr>\n",
              "      <th>171</th>\n",
              "      <td>2659</td>\n",
              "      <td>3708</td>\n",
              "      <td>279</td>\n",
              "      <td>2455</td>\n",
              "      <td>48</td>\n",
              "      <td>1725</td>\n",
              "      <td>26323</td>\n",
              "      <td>1994</td>\n",
              "      <td>4</td>\n",
              "      <td>APR 1994</td>\n",
              "    </tr>\n",
              "    <tr>\n",
              "      <th>172</th>\n",
              "      <td>2354</td>\n",
              "      <td>3210</td>\n",
              "      <td>193</td>\n",
              "      <td>2204</td>\n",
              "      <td>44</td>\n",
              "      <td>1674</td>\n",
              "      <td>23779</td>\n",
              "      <td>1994</td>\n",
              "      <td>5</td>\n",
              "      <td>MAY 1994</td>\n",
              "    </tr>\n",
              "    <tr>\n",
              "      <th>173</th>\n",
              "      <td>2592</td>\n",
              "      <td>3517</td>\n",
              "      <td>227</td>\n",
              "      <td>2660</td>\n",
              "      <td>45</td>\n",
              "      <td>1693</td>\n",
              "      <td>27549</td>\n",
              "      <td>1994</td>\n",
              "      <td>6</td>\n",
              "      <td>JUN 1994</td>\n",
              "    </tr>\n",
              "  </tbody>\n",
              "</table>\n",
              "<p>174 rows × 10 columns</p>\n",
              "</div>"
            ],
            "text/plain": [
              "     fort   dry  sweet   red  rose  spark  total  year_  month_     date_\n",
              "0    2585  1954     85   464   112   1686  15136   1980       1  JAN 1980\n",
              "1    3368  2302     89   675   118   1591  16733   1980       2  FEB 1980\n",
              "2    3210  3054    109   703   129   2304  20016   1980       3  MAR 1980\n",
              "3    3111  2414     95   887    99   1712  17708   1980       4  APR 1980\n",
              "4    3756  2226     91  1139   116   1471  18019   1980       5  MAY 1980\n",
              "..    ...   ...    ...   ...   ...    ...    ...    ...     ...       ...\n",
              "169  1568  3685    280  1728    35   1968  22784   1994       2  FEB 1994\n",
              "170  1965  3754    187  2201    42   1720  23565   1994       3  MAR 1994\n",
              "171  2659  3708    279  2455    48   1725  26323   1994       4  APR 1994\n",
              "172  2354  3210    193  2204    44   1674  23779   1994       5  MAY 1994\n",
              "173  2592  3517    227  2660    45   1693  27549   1994       6  JUN 1994\n",
              "\n",
              "[174 rows x 10 columns]"
            ]
          },
          "metadata": {
            "tags": []
          },
          "execution_count": 220
        }
      ]
    },
    {
      "cell_type": "markdown",
      "metadata": {
        "id": "lT2C_lIRReIF"
      },
      "source": [
        "Построим график и проверим, какой тип тренда (линейный или нет) и какой тип сезонности ( аддитивный или мультипликативный), наблюдается. На первом графике виден линейный тренд и мультипликативная сезонность. Проверим вид сезонности, добавим график логарифма от этой же величины. После логирафмирования сезонные отклонения стали одинаковыми, это подтверждает  мультипликативный характер сезонных отклонений."
      ]
    },
    {
      "cell_type": "code",
      "metadata": {
        "id": "0YiZzybaReIF",
        "colab": {
          "base_uri": "https://localhost:8080/",
          "height": 282
        },
        "outputId": "1ba2df9c-3e6d-4ea8-abdd-482bf86d6955"
      },
      "source": [
        "fig = plt.figure(figsize=(12, 4))\n",
        "ax1 = fig.add_subplot(121)\n",
        "df['rose'].plot(ax=ax1)\n",
        "ax2 = fig.add_subplot(122)\n",
        "pd.Series(np.log10(df['rose'])).plot(ax=ax2)\n"
      ],
      "execution_count": null,
      "outputs": [
        {
          "output_type": "execute_result",
          "data": {
            "text/plain": [
              "<matplotlib.axes._subplots.AxesSubplot at 0x7f49d05f90d0>"
            ]
          },
          "metadata": {
            "tags": []
          },
          "execution_count": 221
        },
        {
          "output_type": "display_data",
          "data": {
            "image/png": "[encoded data removed]",
            "text/plain": [
              "<Figure size 864x288 with 2 Axes>"
            ]
          },
          "metadata": {
            "tags": [],
            "needs_background": "light"
          }
        }
      ]
    },
    {
      "cell_type": "markdown",
      "metadata": {
        "id": "1kfqnkgQReIG"
      },
      "source": [
        "Создадим первый предиктор модели month_num -- порядковый номер пары (месяц, год). <br>\n",
        "Прологарифмируем временной ряд. <br>\n",
        "На случай ошибки с трендом добавляем квадраты месяца"
      ]
    },
    {
      "cell_type": "code",
      "metadata": {
        "colab": {
          "base_uri": "https://localhost:8080/",
          "height": 419
        },
        "id": "_Lgm2kViLzFS",
        "outputId": "f475017b-9b79-4aed-bc0b-4337f564a595"
      },
      "source": [
        "df1 = pd.DataFrame()\n",
        "df1['month_num'] = range(1, len(df) + 1)\n",
        "df1['logx'] =  np.log10(df['rose'])\n",
        "df1['month_num_2'] = df1['month_num']**2\n",
        "df1"
      ],
      "execution_count": null,
      "outputs": [
        {
          "output_type": "execute_result",
          "data": {
            "text/html": [
              "<div>\n",
              "<style scoped>\n",
              "    .dataframe tbody tr th:only-of-type {\n",
              "        vertical-align: middle;\n",
              "    }\n",
              "\n",
              "    .dataframe tbody tr th {\n",
              "        vertical-align: top;\n",
              "    }\n",
              "\n",
              "    .dataframe thead th {\n",
              "        text-align: right;\n",
              "    }\n",
              "</style>\n",
              "<table border=\"1\" class=\"dataframe\">\n",
              "  <thead>\n",
              "    <tr style=\"text-align: right;\">\n",
              "      <th></th>\n",
              "      <th>month_num</th>\n",
              "      <th>logx</th>\n",
              "      <th>month_num_2</th>\n",
              "    </tr>\n",
              "  </thead>\n",
              "  <tbody>\n",
              "    <tr>\n",
              "      <th>0</th>\n",
              "      <td>1</td>\n",
              "      <td>2.049218</td>\n",
              "      <td>1</td>\n",
              "    </tr>\n",
              "    <tr>\n",
              "      <th>1</th>\n",
              "      <td>2</td>\n",
              "      <td>2.071882</td>\n",
              "      <td>4</td>\n",
              "    </tr>\n",
              "    <tr>\n",
              "      <th>2</th>\n",
              "      <td>3</td>\n",
              "      <td>2.110590</td>\n",
              "      <td>9</td>\n",
              "    </tr>\n",
              "    <tr>\n",
              "      <th>3</th>\n",
              "      <td>4</td>\n",
              "      <td>1.995635</td>\n",
              "      <td>16</td>\n",
              "    </tr>\n",
              "    <tr>\n",
              "      <th>4</th>\n",
              "      <td>5</td>\n",
              "      <td>2.064458</td>\n",
              "      <td>25</td>\n",
              "    </tr>\n",
              "    <tr>\n",
              "      <th>...</th>\n",
              "      <td>...</td>\n",
              "      <td>...</td>\n",
              "      <td>...</td>\n",
              "    </tr>\n",
              "    <tr>\n",
              "      <th>169</th>\n",
              "      <td>170</td>\n",
              "      <td>1.544068</td>\n",
              "      <td>28900</td>\n",
              "    </tr>\n",
              "    <tr>\n",
              "      <th>170</th>\n",
              "      <td>171</td>\n",
              "      <td>1.623249</td>\n",
              "      <td>29241</td>\n",
              "    </tr>\n",
              "    <tr>\n",
              "      <th>171</th>\n",
              "      <td>172</td>\n",
              "      <td>1.681241</td>\n",
              "      <td>29584</td>\n",
              "    </tr>\n",
              "    <tr>\n",
              "      <th>172</th>\n",
              "      <td>173</td>\n",
              "      <td>1.643453</td>\n",
              "      <td>29929</td>\n",
              "    </tr>\n",
              "    <tr>\n",
              "      <th>173</th>\n",
              "      <td>174</td>\n",
              "      <td>1.653213</td>\n",
              "      <td>30276</td>\n",
              "    </tr>\n",
              "  </tbody>\n",
              "</table>\n",
              "<p>174 rows × 3 columns</p>\n",
              "</div>"
            ],
            "text/plain": [
              "     month_num      logx  month_num_2\n",
              "0            1  2.049218            1\n",
              "1            2  2.071882            4\n",
              "2            3  2.110590            9\n",
              "3            4  1.995635           16\n",
              "4            5  2.064458           25\n",
              "..         ...       ...          ...\n",
              "169        170  1.544068        28900\n",
              "170        171  1.623249        29241\n",
              "171        172  1.681241        29584\n",
              "172        173  1.643453        29929\n",
              "173        174  1.653213        30276\n",
              "\n",
              "[174 rows x 3 columns]"
            ]
          },
          "metadata": {
            "tags": []
          },
          "execution_count": 222
        }
      ]
    },
    {
      "cell_type": "markdown",
      "metadata": {
        "id": "pbsJUStewbQ_"
      },
      "source": [
        "Количество лет (кратность индикаторов без учета прогноза)"
      ]
    },
    {
      "cell_type": "code",
      "metadata": {
        "id": "-syGs3uWReII",
        "colab": {
          "base_uri": "https://localhost:8080/"
        },
        "outputId": "0ccd0405-4f1a-40e5-894c-862a08a5395e"
      },
      "source": [
        "174/12"
      ],
      "execution_count": null,
      "outputs": [
        {
          "output_type": "execute_result",
          "data": {
            "text/plain": [
              "14.5"
            ]
          },
          "metadata": {
            "tags": []
          },
          "execution_count": 223
        }
      ]
    },
    {
      "cell_type": "markdown",
      "metadata": {
        "id": "KKJVnIo2ReIJ"
      },
      "source": [
        "Создадим новые переменные - индикаторы месяцев"
      ]
    },
    {
      "cell_type": "code",
      "metadata": {
        "id": "NBet-X7pReIJ"
      },
      "source": [
        "df1[\"m01\"] = ([1,0,0,0,0,0,0,0,0,0,0,0]*16)[0:len(df)]\n",
        "df1[\"m02\"] = ([0,1,0,0,0,0,0,0,0,0,0,0]*16)[0:len(df)]\n",
        "df1[\"m03\"] = ([0,0,1,0,0,0,0,0,0,0,0,0]*16)[0:len(df)]\n",
        "df1[\"m04\"] = ([0,0,0,1,0,0,0,0,0,0,0,0]*16)[0:len(df)]\n",
        "df1[\"m05\"] = ([0,0,0,0,1,0,0,0,0,0,0,0]*16)[0:len(df)]\n",
        "df1[\"m06\"] = ([0,0,0,0,0,1,0,0,0,0,0,0]*16)[0:len(df)]\n",
        "df1[\"m07\"] = ([0,0,0,0,0,0,1,0,0,0,0,0]*16)[0:len(df)]\n",
        "df1[\"m08\"] = ([0,0,0,0,0,0,0,1,0,0,0,0]*16)[0:len(df)]\n",
        "df1[\"m09\"] = ([0,0,0,0,0,0,0,0,1,0,0,0]*16)[0:len(df)]\n",
        "df1[\"m10\"] = ([0,0,0,0,0,0,0,0,0,1,0,0]*16)[0:len(df)]\n",
        "df1[\"m11\"] = ([0,0,0,0,0,0,0,0,0,0,1,0]*16)[0:len(df)]\n",
        "df1[\"m12\"] = ([0,0,0,0,0,0,0,0,0,0,0,1]*16)[0:len(df)]\n"
      ],
      "execution_count": null,
      "outputs": []
    },
    {
      "cell_type": "code",
      "metadata": {
        "id": "5FwT8egNReIK"
      },
      "source": [
        "#  Создаем матрицу предикторов.\n",
        "X1 = df1.drop(columns=[\"logx\"])\n",
        "X = X1.values"
      ],
      "execution_count": null,
      "outputs": []
    },
    {
      "cell_type": "code",
      "metadata": {
        "id": "uPpst5itReIK"
      },
      "source": [
        "#  Создаем матрицу (столбец) откликов.\n",
        "y = df1['logx']"
      ],
      "execution_count": null,
      "outputs": []
    },
    {
      "cell_type": "markdown",
      "metadata": {
        "id": "88w3LuwIwsMS"
      },
      "source": [
        "Тренд не растущий, можно не предсказывать по разности ряда. Предсказываем по логарифму."
      ]
    },
    {
      "cell_type": "markdown",
      "metadata": {
        "id": "4FRTfNDaxCI3"
      },
      "source": [
        "Подберем наилучший параметр n_estimators с помощью кросс-валидации. Оценивать будем по r2 метрике."
      ]
    },
    {
      "cell_type": "code",
      "metadata": {
        "colab": {
          "base_uri": "https://localhost:8080/"
        },
        "id": "2AYQB5-MnXMk",
        "outputId": "53788a7c-4119-4a14-b44a-65e8a524f7da"
      },
      "source": [
        "n_estimators = np.arange(500, 1000, 100)\n",
        "cv = model_selection.KFold(n_splits=3)\n",
        "r2 = np.full((n_folds, len(n_estimators)), -9999.0)\n",
        "fold_num = 0\n",
        "for train_index, test_index in kf.split(X):\n",
        "    \n",
        "    X_train, X_test = X[train_index], X[test_index]\n",
        "    y_train, y_test = y[train_index], y[test_index]\n",
        "    j_count = 0\n",
        "\n",
        "    for j in n_estimators:\n",
        "        \n",
        "        model = RandomForestRegressor(n_estimators=j, random_state= 123)\n",
        "        model.fit(X_train, y_train)\n",
        "        model.score(X_test, y_test)\n",
        "\n",
        "        y_pred = model.predict(X_test)\n",
        "\n",
        "        r2[fold_num, j_count ]= metrics.r2_score(y_test, y_pred)\n",
        "\n",
        "        j_count = j_count +1\n",
        "    fold_num = fold_num +1\n",
        "r2"
      ],
      "execution_count": null,
      "outputs": [
        {
          "output_type": "execute_result",
          "data": {
            "text/plain": [
              "array([[0.81580897, 0.81784718, 0.81676998, 0.81727565, 0.81704202],\n",
              "       [0.71043288, 0.7098071 , 0.71135049, 0.71359884, 0.71460752],\n",
              "       [0.73247448, 0.73386522, 0.73416865, 0.73464683, 0.73512348],\n",
              "       [0.72334711, 0.72889588, 0.72990638, 0.72957007, 0.72885381],\n",
              "       [0.83841378, 0.83647401, 0.83536847, 0.83567842, 0.8347746 ]])"
            ]
          },
          "metadata": {
            "tags": []
          },
          "execution_count": 227
        }
      ]
    },
    {
      "cell_type": "markdown",
      "metadata": {
        "id": "LSZf_655siPS"
      },
      "source": [
        "Как можно видеть самый оптимальный вариант последний - n_estimators = 900, т.к. чем R2 ближе к 1, тем удачнее регрессионная модель (оцениваем по среднему значению метрик)."
      ]
    },
    {
      "cell_type": "markdown",
      "metadata": {
        "id": "pLkWnp1Es_47"
      },
      "source": [
        "Натренируем модель при данном параметре"
      ]
    },
    {
      "cell_type": "code",
      "metadata": {
        "colab": {
          "base_uri": "https://localhost:8080/"
        },
        "id": "aOT8ArLstDo9",
        "outputId": "93e01721-635f-48fb-a378-dd9b94fa74f2"
      },
      "source": [
        "model = RandomForestRegressor(n_estimators=900, random_state=123)\n",
        "model.fit(X, y)"
      ],
      "execution_count": null,
      "outputs": [
        {
          "output_type": "execute_result",
          "data": {
            "text/plain": [
              "RandomForestRegressor(bootstrap=True, ccp_alpha=0.0, criterion='mse',\n",
              "                      max_depth=None, max_features='auto', max_leaf_nodes=None,\n",
              "                      max_samples=None, min_impurity_decrease=0.0,\n",
              "                      min_impurity_split=None, min_samples_leaf=1,\n",
              "                      min_samples_split=2, min_weight_fraction_leaf=0.0,\n",
              "                      n_estimators=900, n_jobs=None, oob_score=False,\n",
              "                      random_state=123, verbose=0, warm_start=False)"
            ]
          },
          "metadata": {
            "tags": []
          },
          "execution_count": 228
        }
      ]
    },
    {
      "cell_type": "code",
      "metadata": {
        "id": "FuvIf_BkReIM",
        "colab": {
          "base_uri": "https://localhost:8080/",
          "height": 282
        },
        "outputId": "d65f0fbb-2b68-4af7-8794-c3690ba5a72f"
      },
      "source": [
        "#  Сравним подгонку и ряд логарифмов\n",
        "pred = pd.DataFrame({\n",
        "    'pred': model.predict(X),\n",
        "    'real': y})\n",
        "pred.plot()"
      ],
      "execution_count": null,
      "outputs": [
        {
          "output_type": "execute_result",
          "data": {
            "text/plain": [
              "<matplotlib.axes._subplots.AxesSubplot at 0x7f49d08a4d90>"
            ]
          },
          "metadata": {
            "tags": []
          },
          "execution_count": 229
        },
        {
          "output_type": "display_data",
          "data": {
            "image/png": "[encoded data removed]",
            "text/plain": [
              "<Figure size 432x288 with 1 Axes>"
            ]
          },
          "metadata": {
            "tags": [],
            "needs_background": "light"
          }
        }
      ]
    },
    {
      "cell_type": "code",
      "metadata": {
        "id": "T5TN3TYVReIN",
        "colab": {
          "base_uri": "https://localhost:8080/"
        },
        "outputId": "caab4310-2024-4cf6-a2b9-6a9b4ce5c64f"
      },
      "source": [
        "#  критерий качества\n",
        "print(\"SSE = \", sum((y - model.predict(X))**2))"
      ],
      "execution_count": null,
      "outputs": [
        {
          "output_type": "stream",
          "text": [
            "SSE =  0.1440507126503191\n"
          ],
          "name": "stdout"
        }
      ]
    },
    {
      "cell_type": "markdown",
      "metadata": {
        "id": "ThBCkCcsxe2w"
      },
      "source": [
        "Cумма квадратов регрессионных остатков достаточно маленькая. Можно использовать модель для дальнейшего прогноза."
      ]
    },
    {
      "cell_type": "code",
      "metadata": {
        "id": "T2omcPmTReIP"
      },
      "source": [
        "#  Прогноз на 8 месяцев\n",
        "horizon = 8\n",
        "#  Готовим маторицу предикторов для вычисления прогнозов\n",
        "df_3= pd.DataFrame()\n",
        "\n",
        "df_3['month_num'] = range((len(df)+1), (len(df)+horizon+1))\n",
        "df_3['month_num_2'] = df_3['month_num']**2"
      ],
      "execution_count": null,
      "outputs": []
    },
    {
      "cell_type": "code",
      "metadata": {
        "id": "6UDsjapuReIU"
      },
      "source": [
        "#  Добавляем индикаторы месяцев. \n",
        "#  Первый месяц должен быть 7, т.к. продолжаем ряд \n",
        "df_3[\"m07\"] = ([1,0,0,0,0,0,0,0,0,0,0,0])[0:horizon]\n",
        "df_3[\"m08\"] = ([0,1,0,0,0,0,0,0,0,0,0,0])[0:horizon]\n",
        "df_3[\"m09\"] = ([0,0,1,0,0,0,0,0,0,0,0,0])[0:horizon]\n",
        "df_3[\"m10\"] = ([0,0,0,1,0,0,0,0,0,0,0,0])[0:horizon]\n",
        "df_3[\"m11\"] = ([0,0,0,0,1,0,0,0,0,0,0,0])[0:horizon]\n",
        "df_3[\"m12\"] = ([0,0,0,0,0,1,0,0,0,0,0,0])[0:horizon]\n",
        "df_3[\"m01\"] = ([0,0,0,0,0,0,1,0,0,0,0,0])[0:horizon]\n",
        "df_3[\"m02\"] = ([0,0,0,0,0,0,0,1,0,0,0,0])[0:horizon]\n",
        "df_3[\"m03\"] = ([0,0,0,0,0,0,0,0,1,0,0,0])[0:horizon]\n",
        "df_3[\"m04\"] = ([0,0,0,0,0,0,0,0,0,1,0,0])[0:horizon]\n",
        "df_3[\"m05\"] = ([0,0,0,0,0,0,0,0,0,0,1,0])[0:horizon]\n",
        "df_3[\"m06\"] = ([0,0,0,0,0,0,0,0,0,0,0,1])[0:horizon]\n"
      ],
      "execution_count": null,
      "outputs": []
    },
    {
      "cell_type": "code",
      "metadata": {
        "id": "-nQeHqIcReIV",
        "colab": {
          "base_uri": "https://localhost:8080/",
          "height": 297
        },
        "outputId": "7f6f60e8-d4c9-43ce-b67c-a7cec21acb9a"
      },
      "source": [
        "df_3"
      ],
      "execution_count": null,
      "outputs": [
        {
          "output_type": "execute_result",
          "data": {
            "text/html": [
              "<div>\n",
              "<style scoped>\n",
              "    .dataframe tbody tr th:only-of-type {\n",
              "        vertical-align: middle;\n",
              "    }\n",
              "\n",
              "    .dataframe tbody tr th {\n",
              "        vertical-align: top;\n",
              "    }\n",
              "\n",
              "    .dataframe thead th {\n",
              "        text-align: right;\n",
              "    }\n",
              "</style>\n",
              "<table border=\"1\" class=\"dataframe\">\n",
              "  <thead>\n",
              "    <tr style=\"text-align: right;\">\n",
              "      <th></th>\n",
              "      <th>month_num</th>\n",
              "      <th>month_num_2</th>\n",
              "      <th>m07</th>\n",
              "      <th>m08</th>\n",
              "      <th>m09</th>\n",
              "      <th>m10</th>\n",
              "      <th>m11</th>\n",
              "      <th>m12</th>\n",
              "      <th>m01</th>\n",
              "      <th>m02</th>\n",
              "      <th>m03</th>\n",
              "      <th>m04</th>\n",
              "      <th>m05</th>\n",
              "      <th>m06</th>\n",
              "    </tr>\n",
              "  </thead>\n",
              "  <tbody>\n",
              "    <tr>\n",
              "      <th>0</th>\n",
              "      <td>175</td>\n",
              "      <td>30625</td>\n",
              "      <td>1</td>\n",
              "      <td>0</td>\n",
              "      <td>0</td>\n",
              "      <td>0</td>\n",
              "      <td>0</td>\n",
              "      <td>0</td>\n",
              "      <td>0</td>\n",
              "      <td>0</td>\n",
              "      <td>0</td>\n",
              "      <td>0</td>\n",
              "      <td>0</td>\n",
              "      <td>0</td>\n",
              "    </tr>\n",
              "    <tr>\n",
              "      <th>1</th>\n",
              "      <td>176</td>\n",
              "      <td>30976</td>\n",
              "      <td>0</td>\n",
              "      <td>1</td>\n",
              "      <td>0</td>\n",
              "      <td>0</td>\n",
              "      <td>0</td>\n",
              "      <td>0</td>\n",
              "      <td>0</td>\n",
              "      <td>0</td>\n",
              "      <td>0</td>\n",
              "      <td>0</td>\n",
              "      <td>0</td>\n",
              "      <td>0</td>\n",
              "    </tr>\n",
              "    <tr>\n",
              "      <th>2</th>\n",
              "      <td>177</td>\n",
              "      <td>31329</td>\n",
              "      <td>0</td>\n",
              "      <td>0</td>\n",
              "      <td>1</td>\n",
              "      <td>0</td>\n",
              "      <td>0</td>\n",
              "      <td>0</td>\n",
              "      <td>0</td>\n",
              "      <td>0</td>\n",
              "      <td>0</td>\n",
              "      <td>0</td>\n",
              "      <td>0</td>\n",
              "      <td>0</td>\n",
              "    </tr>\n",
              "    <tr>\n",
              "      <th>3</th>\n",
              "      <td>178</td>\n",
              "      <td>31684</td>\n",
              "      <td>0</td>\n",
              "      <td>0</td>\n",
              "      <td>0</td>\n",
              "      <td>1</td>\n",
              "      <td>0</td>\n",
              "      <td>0</td>\n",
              "      <td>0</td>\n",
              "      <td>0</td>\n",
              "      <td>0</td>\n",
              "      <td>0</td>\n",
              "      <td>0</td>\n",
              "      <td>0</td>\n",
              "    </tr>\n",
              "    <tr>\n",
              "      <th>4</th>\n",
              "      <td>179</td>\n",
              "      <td>32041</td>\n",
              "      <td>0</td>\n",
              "      <td>0</td>\n",
              "      <td>0</td>\n",
              "      <td>0</td>\n",
              "      <td>1</td>\n",
              "      <td>0</td>\n",
              "      <td>0</td>\n",
              "      <td>0</td>\n",
              "      <td>0</td>\n",
              "      <td>0</td>\n",
              "      <td>0</td>\n",
              "      <td>0</td>\n",
              "    </tr>\n",
              "    <tr>\n",
              "      <th>5</th>\n",
              "      <td>180</td>\n",
              "      <td>32400</td>\n",
              "      <td>0</td>\n",
              "      <td>0</td>\n",
              "      <td>0</td>\n",
              "      <td>0</td>\n",
              "      <td>0</td>\n",
              "      <td>1</td>\n",
              "      <td>0</td>\n",
              "      <td>0</td>\n",
              "      <td>0</td>\n",
              "      <td>0</td>\n",
              "      <td>0</td>\n",
              "      <td>0</td>\n",
              "    </tr>\n",
              "    <tr>\n",
              "      <th>6</th>\n",
              "      <td>181</td>\n",
              "      <td>32761</td>\n",
              "      <td>0</td>\n",
              "      <td>0</td>\n",
              "      <td>0</td>\n",
              "      <td>0</td>\n",
              "      <td>0</td>\n",
              "      <td>0</td>\n",
              "      <td>1</td>\n",
              "      <td>0</td>\n",
              "      <td>0</td>\n",
              "      <td>0</td>\n",
              "      <td>0</td>\n",
              "      <td>0</td>\n",
              "    </tr>\n",
              "    <tr>\n",
              "      <th>7</th>\n",
              "      <td>182</td>\n",
              "      <td>33124</td>\n",
              "      <td>0</td>\n",
              "      <td>0</td>\n",
              "      <td>0</td>\n",
              "      <td>0</td>\n",
              "      <td>0</td>\n",
              "      <td>0</td>\n",
              "      <td>0</td>\n",
              "      <td>1</td>\n",
              "      <td>0</td>\n",
              "      <td>0</td>\n",
              "      <td>0</td>\n",
              "      <td>0</td>\n",
              "    </tr>\n",
              "  </tbody>\n",
              "</table>\n",
              "</div>"
            ],
            "text/plain": [
              "   month_num  month_num_2  m07  m08  m09  m10  ...  m01  m02  m03  m04  m05  m06\n",
              "0        175        30625    1    0    0    0  ...    0    0    0    0    0    0\n",
              "1        176        30976    0    1    0    0  ...    0    0    0    0    0    0\n",
              "2        177        31329    0    0    1    0  ...    0    0    0    0    0    0\n",
              "3        178        31684    0    0    0    1  ...    0    0    0    0    0    0\n",
              "4        179        32041    0    0    0    0  ...    0    0    0    0    0    0\n",
              "5        180        32400    0    0    0    0  ...    0    0    0    0    0    0\n",
              "6        181        32761    0    0    0    0  ...    1    0    0    0    0    0\n",
              "7        182        33124    0    0    0    0  ...    0    1    0    0    0    0\n",
              "\n",
              "[8 rows x 14 columns]"
            ]
          },
          "metadata": {
            "tags": []
          },
          "execution_count": 233
        }
      ]
    },
    {
      "cell_type": "code",
      "metadata": {
        "id": "bXjmsmmUReIV",
        "colab": {
          "base_uri": "https://localhost:8080/"
        },
        "outputId": "e29a4122-56c8-4d82-948f-23978fd811ce"
      },
      "source": [
        "#  Прогноз для логарфмов\n",
        "res = model.predict(df_3)\n",
        "\n",
        "res"
      ],
      "execution_count": null,
      "outputs": [
        {
          "output_type": "execute_result",
          "data": {
            "text/plain": [
              "array([1.52165443, 1.59112326, 1.64113208, 1.66226585, 1.64468694,\n",
              "       1.65962116, 1.69095332, 1.66946323])"
            ]
          },
          "metadata": {
            "tags": []
          },
          "execution_count": 234
        }
      ]
    },
    {
      "cell_type": "code",
      "metadata": {
        "id": "5yIFcUpAReIW",
        "colab": {
          "base_uri": "https://localhost:8080/"
        },
        "outputId": "514ca001-b7a3-4446-9cfa-ea373ee34a75"
      },
      "source": [
        "#  Прогноз для исходного ряда\n",
        "10**model.predict(df_3)"
      ],
      "execution_count": null,
      "outputs": [
        {
          "output_type": "execute_result",
          "data": {
            "text/plain": [
              "array([33.23949567, 39.00526777, 43.76551893, 45.94791964, 44.12522588,\n",
              "       45.66896388, 49.08551182, 46.71574017])"
            ]
          },
          "metadata": {
            "tags": []
          },
          "execution_count": 235
        }
      ]
    },
    {
      "cell_type": "code",
      "metadata": {
        "scrolled": true,
        "id": "OnBACcDoReIW",
        "colab": {
          "base_uri": "https://localhost:8080/",
          "height": 204
        },
        "outputId": "0e3e4453-509a-4404-95b4-1d96c750730e"
      },
      "source": [
        "#  матрица с подгонкой\n",
        "pred['forecast'] = np.nan\n",
        "pred.head()"
      ],
      "execution_count": null,
      "outputs": [
        {
          "output_type": "execute_result",
          "data": {
            "text/html": [
              "<div>\n",
              "<style scoped>\n",
              "    .dataframe tbody tr th:only-of-type {\n",
              "        vertical-align: middle;\n",
              "    }\n",
              "\n",
              "    .dataframe tbody tr th {\n",
              "        vertical-align: top;\n",
              "    }\n",
              "\n",
              "    .dataframe thead th {\n",
              "        text-align: right;\n",
              "    }\n",
              "</style>\n",
              "<table border=\"1\" class=\"dataframe\">\n",
              "  <thead>\n",
              "    <tr style=\"text-align: right;\">\n",
              "      <th></th>\n",
              "      <th>pred</th>\n",
              "      <th>real</th>\n",
              "      <th>forecast</th>\n",
              "    </tr>\n",
              "  </thead>\n",
              "  <tbody>\n",
              "    <tr>\n",
              "      <th>0</th>\n",
              "      <td>2.062631</td>\n",
              "      <td>2.049218</td>\n",
              "      <td>NaN</td>\n",
              "    </tr>\n",
              "    <tr>\n",
              "      <th>1</th>\n",
              "      <td>2.074960</td>\n",
              "      <td>2.071882</td>\n",
              "      <td>NaN</td>\n",
              "    </tr>\n",
              "    <tr>\n",
              "      <th>2</th>\n",
              "      <td>2.098928</td>\n",
              "      <td>2.110590</td>\n",
              "      <td>NaN</td>\n",
              "    </tr>\n",
              "    <tr>\n",
              "      <th>3</th>\n",
              "      <td>2.017952</td>\n",
              "      <td>1.995635</td>\n",
              "      <td>NaN</td>\n",
              "    </tr>\n",
              "    <tr>\n",
              "      <th>4</th>\n",
              "      <td>2.065533</td>\n",
              "      <td>2.064458</td>\n",
              "      <td>NaN</td>\n",
              "    </tr>\n",
              "  </tbody>\n",
              "</table>\n",
              "</div>"
            ],
            "text/plain": [
              "       pred      real  forecast\n",
              "0  2.062631  2.049218       NaN\n",
              "1  2.074960  2.071882       NaN\n",
              "2  2.098928  2.110590       NaN\n",
              "3  2.017952  1.995635       NaN\n",
              "4  2.065533  2.064458       NaN"
            ]
          },
          "metadata": {
            "tags": []
          },
          "execution_count": 236
        }
      ]
    },
    {
      "cell_type": "code",
      "metadata": {
        "id": "hw9b5aNDReIW",
        "colab": {
          "base_uri": "https://localhost:8080/",
          "height": 204
        },
        "outputId": "1fcfa9e0-0f58-4c57-aad9-f8e7caa8839f"
      },
      "source": [
        "#  матрица с прогнозом\n",
        "df_4 = pd.DataFrame(res, columns=['forecast'])\n",
        "df_4['real'] = np.nan\n",
        "df_4['pred'] = np.nan\n",
        "df_4.head()"
      ],
      "execution_count": null,
      "outputs": [
        {
          "output_type": "execute_result",
          "data": {
            "text/html": [
              "<div>\n",
              "<style scoped>\n",
              "    .dataframe tbody tr th:only-of-type {\n",
              "        vertical-align: middle;\n",
              "    }\n",
              "\n",
              "    .dataframe tbody tr th {\n",
              "        vertical-align: top;\n",
              "    }\n",
              "\n",
              "    .dataframe thead th {\n",
              "        text-align: right;\n",
              "    }\n",
              "</style>\n",
              "<table border=\"1\" class=\"dataframe\">\n",
              "  <thead>\n",
              "    <tr style=\"text-align: right;\">\n",
              "      <th></th>\n",
              "      <th>forecast</th>\n",
              "      <th>real</th>\n",
              "      <th>pred</th>\n",
              "    </tr>\n",
              "  </thead>\n",
              "  <tbody>\n",
              "    <tr>\n",
              "      <th>0</th>\n",
              "      <td>1.521654</td>\n",
              "      <td>NaN</td>\n",
              "      <td>NaN</td>\n",
              "    </tr>\n",
              "    <tr>\n",
              "      <th>1</th>\n",
              "      <td>1.591123</td>\n",
              "      <td>NaN</td>\n",
              "      <td>NaN</td>\n",
              "    </tr>\n",
              "    <tr>\n",
              "      <th>2</th>\n",
              "      <td>1.641132</td>\n",
              "      <td>NaN</td>\n",
              "      <td>NaN</td>\n",
              "    </tr>\n",
              "    <tr>\n",
              "      <th>3</th>\n",
              "      <td>1.662266</td>\n",
              "      <td>NaN</td>\n",
              "      <td>NaN</td>\n",
              "    </tr>\n",
              "    <tr>\n",
              "      <th>4</th>\n",
              "      <td>1.644687</td>\n",
              "      <td>NaN</td>\n",
              "      <td>NaN</td>\n",
              "    </tr>\n",
              "  </tbody>\n",
              "</table>\n",
              "</div>"
            ],
            "text/plain": [
              "   forecast  real  pred\n",
              "0  1.521654   NaN   NaN\n",
              "1  1.591123   NaN   NaN\n",
              "2  1.641132   NaN   NaN\n",
              "3  1.662266   NaN   NaN\n",
              "4  1.644687   NaN   NaN"
            ]
          },
          "metadata": {
            "tags": []
          },
          "execution_count": 237
        }
      ]
    },
    {
      "cell_type": "code",
      "metadata": {
        "scrolled": true,
        "id": "Bvz36uiWReIX",
        "colab": {
          "base_uri": "https://localhost:8080/",
          "height": 483
        },
        "outputId": "7a907e69-c7cd-4b4a-d183-3f3d7def9bc1"
      },
      "source": [
        "#  объединяем матрицы, задаем новые индексы\n",
        "pred_1 = pd.concat(\n",
        "    [pred, df_4],\n",
        "    sort=False\n",
        ").reset_index(drop=True)\n",
        "\n",
        "plt.figure(figsize=(16,8))\n",
        "plt.plot(pred_1)\n",
        "plt.show()"
      ],
      "execution_count": null,
      "outputs": [
        {
          "output_type": "display_data",
          "data": {
            "image/png": "[encoded data removed]",
            "text/plain": [
              "<Figure size 1152x576 with 1 Axes>"
            ]
          },
          "metadata": {
            "tags": [],
            "needs_background": "light"
          }
        }
      ]
    },
    {
      "cell_type": "code",
      "metadata": {
        "id": "LEu1XoJdReIX"
      },
      "source": [
        "#  Возвращаемся к исходному ряду\n",
        "pred_11 = 10**pred_1"
      ],
      "execution_count": null,
      "outputs": []
    },
    {
      "cell_type": "code",
      "metadata": {
        "id": "EBFG8PtwReIX",
        "colab": {
          "base_uri": "https://localhost:8080/",
          "height": 282
        },
        "outputId": "0b47e7a0-37d5-4629-b412-4e28f0d6908c"
      },
      "source": [
        "pred_11.plot()"
      ],
      "execution_count": null,
      "outputs": [
        {
          "output_type": "execute_result",
          "data": {
            "text/plain": [
              "<matplotlib.axes._subplots.AxesSubplot at 0x7f49d04c0e10>"
            ]
          },
          "metadata": {
            "tags": []
          },
          "execution_count": 240
        },
        {
          "output_type": "display_data",
          "data": {
            "image/png": "[encoded data removed]",
            "text/plain": [
              "<Figure size 432x288 with 1 Axes>"
            ]
          },
          "metadata": {
            "tags": [],
            "needs_background": "light"
          }
        }
      ]
    }
  ]
}