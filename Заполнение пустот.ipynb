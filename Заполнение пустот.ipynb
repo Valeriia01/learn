{
  "nbformat": 4,
  "nbformat_minor": 0,
  "metadata": {
    "colab": {
      "provenance": [],
      "collapsed_sections": [],
      "toc_visible": true
    },
    "kernelspec": {
      "name": "python3",
      "display_name": "Python 3"
    },
    "language_info": {
      "name": "python"
    }
  },
  "cells": [
    {
      "cell_type": "markdown",
      "metadata": {
        "id": "EKmT1Gj2T8um"
      },
      "source": [
        "\n",
        "Пропуски "
      ]
    },
    {
      "cell_type": "code",
      "metadata": {
        "id": "vwQsWwyIFbm1",
        "colab": {
          "base_uri": "https://localhost:8080/"
        },
        "outputId": "eed7ba15-43a7-440e-f0c0-8c772efb2930"
      },
      "source": [
        "import pandas as pd\n",
        "import numpy as np\n",
        "import matplotlib\n",
        "import matplotlib.pyplot as plt\n",
        "from scipy import stats\n",
        "matplotlib.style.use('ggplot')\n",
        "%matplotlib inline\n",
        "!pip install scikit-learn==0.22.1\n",
        "!pip install impyute\n",
        "import impyute as impy\n",
        "!pip install missingpy\n",
        "from missingpy import MissForest"
      ],
      "execution_count": null,
      "outputs": [
        {
          "output_type": "stream",
          "text": [
            "Requirement already satisfied: scikit-learn==0.22.1 in /usr/local/lib/python3.7/dist-packages (0.22.1)\n",
            "Requirement already satisfied: numpy>=1.11.0 in /usr/local/lib/python3.7/dist-packages (from scikit-learn==0.22.1) (1.19.5)\n",
            "Requirement already satisfied: joblib>=0.11 in /usr/local/lib/python3.7/dist-packages (from scikit-learn==0.22.1) (1.0.1)\n",
            "Requirement already satisfied: scipy>=0.17.0 in /usr/local/lib/python3.7/dist-packages (from scikit-learn==0.22.1) (1.4.1)\n",
            "Requirement already satisfied: impyute in /usr/local/lib/python3.7/dist-packages (0.0.8)\n",
            "Requirement already satisfied: scipy in /usr/local/lib/python3.7/dist-packages (from impyute) (1.4.1)\n",
            "Requirement already satisfied: numpy in /usr/local/lib/python3.7/dist-packages (from impyute) (1.19.5)\n",
            "Requirement already satisfied: scikit-learn in /usr/local/lib/python3.7/dist-packages (from impyute) (0.22.1)\n",
            "Requirement already satisfied: joblib>=0.11 in /usr/local/lib/python3.7/dist-packages (from scikit-learn->impyute) (1.0.1)\n",
            "Requirement already satisfied: missingpy in /usr/local/lib/python3.7/dist-packages (0.2.0)\n"
          ],
          "name": "stdout"
        }
      ]
    },
    {
      "cell_type": "code",
      "metadata": {
        "colab": {
          "base_uri": "https://localhost:8080/",
          "height": 224
        },
        "id": "IhuuX63NF1e6",
        "outputId": "a0ce22c2-75d8-4874-fea7-f82e75ec01f0"
      },
      "source": [
        "df = pd.read_csv('bank-full.csv', sep=';')\n",
        "df.head()"
      ],
      "execution_count": null,
      "outputs": [
        {
          "output_type": "execute_result",
          "data": {
            "text/html": [
              "<div>\n",
              "<style scoped>\n",
              "    .dataframe tbody tr th:only-of-type {\n",
              "        vertical-align: middle;\n",
              "    }\n",
              "\n",
              "    .dataframe tbody tr th {\n",
              "        vertical-align: top;\n",
              "    }\n",
              "\n",
              "    .dataframe thead th {\n",
              "        text-align: right;\n",
              "    }\n",
              "</style>\n",
              "<table border=\"1\" class=\"dataframe\">\n",
              "  <thead>\n",
              "    <tr style=\"text-align: right;\">\n",
              "      <th></th>\n",
              "      <th>age</th>\n",
              "      <th>job</th>\n",
              "      <th>marital</th>\n",
              "      <th>education</th>\n",
              "      <th>default</th>\n",
              "      <th>balance</th>\n",
              "      <th>housing</th>\n",
              "      <th>loan</th>\n",
              "      <th>contact</th>\n",
              "      <th>day</th>\n",
              "      <th>month</th>\n",
              "      <th>duration</th>\n",
              "      <th>campaign</th>\n",
              "      <th>pdays</th>\n",
              "      <th>previous</th>\n",
              "      <th>poutcome</th>\n",
              "      <th>y</th>\n",
              "    </tr>\n",
              "  </thead>\n",
              "  <tbody>\n",
              "    <tr>\n",
              "      <th>0</th>\n",
              "      <td>58</td>\n",
              "      <td>management</td>\n",
              "      <td>married</td>\n",
              "      <td>tertiary</td>\n",
              "      <td>no</td>\n",
              "      <td>2143</td>\n",
              "      <td>yes</td>\n",
              "      <td>no</td>\n",
              "      <td>unknown</td>\n",
              "      <td>5</td>\n",
              "      <td>may</td>\n",
              "      <td>261</td>\n",
              "      <td>1</td>\n",
              "      <td>-1</td>\n",
              "      <td>0</td>\n",
              "      <td>unknown</td>\n",
              "      <td>no</td>\n",
              "    </tr>\n",
              "    <tr>\n",
              "      <th>1</th>\n",
              "      <td>44</td>\n",
              "      <td>technician</td>\n",
              "      <td>single</td>\n",
              "      <td>secondary</td>\n",
              "      <td>no</td>\n",
              "      <td>29</td>\n",
              "      <td>yes</td>\n",
              "      <td>no</td>\n",
              "      <td>unknown</td>\n",
              "      <td>5</td>\n",
              "      <td>may</td>\n",
              "      <td>151</td>\n",
              "      <td>1</td>\n",
              "      <td>-1</td>\n",
              "      <td>0</td>\n",
              "      <td>unknown</td>\n",
              "      <td>no</td>\n",
              "    </tr>\n",
              "    <tr>\n",
              "      <th>2</th>\n",
              "      <td>33</td>\n",
              "      <td>entrepreneur</td>\n",
              "      <td>married</td>\n",
              "      <td>secondary</td>\n",
              "      <td>no</td>\n",
              "      <td>2</td>\n",
              "      <td>yes</td>\n",
              "      <td>yes</td>\n",
              "      <td>unknown</td>\n",
              "      <td>5</td>\n",
              "      <td>may</td>\n",
              "      <td>76</td>\n",
              "      <td>1</td>\n",
              "      <td>-1</td>\n",
              "      <td>0</td>\n",
              "      <td>unknown</td>\n",
              "      <td>no</td>\n",
              "    </tr>\n",
              "    <tr>\n",
              "      <th>3</th>\n",
              "      <td>47</td>\n",
              "      <td>blue-collar</td>\n",
              "      <td>married</td>\n",
              "      <td>unknown</td>\n",
              "      <td>no</td>\n",
              "      <td>1506</td>\n",
              "      <td>yes</td>\n",
              "      <td>no</td>\n",
              "      <td>unknown</td>\n",
              "      <td>5</td>\n",
              "      <td>may</td>\n",
              "      <td>92</td>\n",
              "      <td>1</td>\n",
              "      <td>-1</td>\n",
              "      <td>0</td>\n",
              "      <td>unknown</td>\n",
              "      <td>no</td>\n",
              "    </tr>\n",
              "    <tr>\n",
              "      <th>4</th>\n",
              "      <td>33</td>\n",
              "      <td>unknown</td>\n",
              "      <td>single</td>\n",
              "      <td>unknown</td>\n",
              "      <td>no</td>\n",
              "      <td>1</td>\n",
              "      <td>no</td>\n",
              "      <td>no</td>\n",
              "      <td>unknown</td>\n",
              "      <td>5</td>\n",
              "      <td>may</td>\n",
              "      <td>198</td>\n",
              "      <td>1</td>\n",
              "      <td>-1</td>\n",
              "      <td>0</td>\n",
              "      <td>unknown</td>\n",
              "      <td>no</td>\n",
              "    </tr>\n",
              "  </tbody>\n",
              "</table>\n",
              "</div>"
            ],
            "text/plain": [
              "   age           job  marital  education default  balance housing loan  \\\n",
              "0   58    management  married   tertiary      no     2143     yes   no   \n",
              "1   44    technician   single  secondary      no       29     yes   no   \n",
              "2   33  entrepreneur  married  secondary      no        2     yes  yes   \n",
              "3   47   blue-collar  married    unknown      no     1506     yes   no   \n",
              "4   33       unknown   single    unknown      no        1      no   no   \n",
              "\n",
              "   contact  day month  duration  campaign  pdays  previous poutcome   y  \n",
              "0  unknown    5   may       261         1     -1         0  unknown  no  \n",
              "1  unknown    5   may       151         1     -1         0  unknown  no  \n",
              "2  unknown    5   may        76         1     -1         0  unknown  no  \n",
              "3  unknown    5   may        92         1     -1         0  unknown  no  \n",
              "4  unknown    5   may       198         1     -1         0  unknown  no  "
            ]
          },
          "metadata": {
            "tags": []
          },
          "execution_count": 37
        }
      ]
    },
    {
      "cell_type": "markdown",
      "metadata": {
        "id": "motFxSMI1uzt"
      },
      "source": [
        "#Подготавливаем данные"
      ]
    },
    {
      "cell_type": "markdown",
      "metadata": {
        "id": "TNGTdA1v1x2i"
      },
      "source": [
        "Необходимо заменить текстовые поля числами. Сделаю это с помощью \"ключей\""
      ]
    },
    {
      "cell_type": "code",
      "metadata": {
        "id": "5dses19MLlnY"
      },
      "source": [
        "jobs = list(np.unique(df['job']))\n",
        "fam = list(np.unique(df['marital']))\n",
        "ed =list(np.unique(df['education']))\n",
        "dflt =list(np.unique(df['default']))\n",
        "hous = list(np.unique(df['housing']))\n",
        "loan = list(np.unique(df['loan']))\n",
        "contact = list(np.unique(df['contact']))\n",
        "month = list(np.unique(df['month']))\n",
        "poutcome = list(np.unique(df['poutcome']))\n",
        "y = ['no', 'yes']\n",
        "df1 = df"
      ],
      "execution_count": null,
      "outputs": []
    },
    {
      "cell_type": "code",
      "metadata": {
        "colab": {
          "base_uri": "https://localhost:8080/",
          "height": 1000
        },
        "id": "njScrBBbODlX",
        "outputId": "d5307bc4-12b6-476b-8f06-47ee5e0d255c"
      },
      "source": [
        "for i in range (45211):\n",
        "   df1['job'][i] = float(jobs.index(df['job'][i]))\n",
        "   df1['marital'][i] = float(fam.index(df['marital'][i]))\n",
        "   df1['education'][i] = float(ed.index(df['education'][i]))\n",
        "   df1['housing'][i] = float(hous.index(df['housing'][i]))\n",
        "   df1['loan'][i] = float(loan.index(df['loan'][i]))\n",
        "   df1['contact'][i] = float(contact.index(df['contact'][i]))\n",
        "   df1['month'][i] = float(month.index(df['month'][i]))\n",
        "   df1['poutcome'][i] = float(poutcome.index(df['poutcome'][i]))\n",
        "   df1['default'][i] = float(dflt.index(df['default'][i]))\n",
        "   df1['y'][i] = float(y.index(df['y'][i]))\n",
        "df1"
      ],
      "execution_count": null,
      "outputs": [
        {
          "output_type": "stream",
          "text": [
            "/usr/local/lib/python3.7/dist-packages/ipykernel_launcher.py:2: SettingWithCopyWarning: \n",
            "A value is trying to be set on a copy of a slice from a DataFrame\n",
            "\n",
            "See the caveats in the documentation: https://pandas.pydata.org/pandas-docs/stable/user_guide/indexing.html#returning-a-view-versus-a-copy\n",
            "  \n",
            "/usr/local/lib/python3.7/dist-packages/ipykernel_launcher.py:3: SettingWithCopyWarning: \n",
            "A value is trying to be set on a copy of a slice from a DataFrame\n",
            "\n",
            "See the caveats in the documentation: https://pandas.pydata.org/pandas-docs/stable/user_guide/indexing.html#returning-a-view-versus-a-copy\n",
            "  This is separate from the ipykernel package so we can avoid doing imports until\n",
            "/usr/local/lib/python3.7/dist-packages/ipykernel_launcher.py:4: SettingWithCopyWarning: \n",
            "A value is trying to be set on a copy of a slice from a DataFrame\n",
            "\n",
            "See the caveats in the documentation: https://pandas.pydata.org/pandas-docs/stable/user_guide/indexing.html#returning-a-view-versus-a-copy\n",
            "  after removing the cwd from sys.path.\n",
            "/usr/local/lib/python3.7/dist-packages/ipykernel_launcher.py:5: SettingWithCopyWarning: \n",
            "A value is trying to be set on a copy of a slice from a DataFrame\n",
            "\n",
            "See the caveats in the documentation: https://pandas.pydata.org/pandas-docs/stable/user_guide/indexing.html#returning-a-view-versus-a-copy\n",
            "  \"\"\"\n",
            "/usr/local/lib/python3.7/dist-packages/ipykernel_launcher.py:6: SettingWithCopyWarning: \n",
            "A value is trying to be set on a copy of a slice from a DataFrame\n",
            "\n",
            "See the caveats in the documentation: https://pandas.pydata.org/pandas-docs/stable/user_guide/indexing.html#returning-a-view-versus-a-copy\n",
            "  \n",
            "/usr/local/lib/python3.7/dist-packages/ipykernel_launcher.py:7: SettingWithCopyWarning: \n",
            "A value is trying to be set on a copy of a slice from a DataFrame\n",
            "\n",
            "See the caveats in the documentation: https://pandas.pydata.org/pandas-docs/stable/user_guide/indexing.html#returning-a-view-versus-a-copy\n",
            "  import sys\n",
            "/usr/local/lib/python3.7/dist-packages/ipykernel_launcher.py:8: SettingWithCopyWarning: \n",
            "A value is trying to be set on a copy of a slice from a DataFrame\n",
            "\n",
            "See the caveats in the documentation: https://pandas.pydata.org/pandas-docs/stable/user_guide/indexing.html#returning-a-view-versus-a-copy\n",
            "  \n",
            "/usr/local/lib/python3.7/dist-packages/ipykernel_launcher.py:9: SettingWithCopyWarning: \n",
            "A value is trying to be set on a copy of a slice from a DataFrame\n",
            "\n",
            "See the caveats in the documentation: https://pandas.pydata.org/pandas-docs/stable/user_guide/indexing.html#returning-a-view-versus-a-copy\n",
            "  if __name__ == '__main__':\n",
            "/usr/local/lib/python3.7/dist-packages/ipykernel_launcher.py:10: SettingWithCopyWarning: \n",
            "A value is trying to be set on a copy of a slice from a DataFrame\n",
            "\n",
            "See the caveats in the documentation: https://pandas.pydata.org/pandas-docs/stable/user_guide/indexing.html#returning-a-view-versus-a-copy\n",
            "  # Remove the CWD from sys.path while we load stuff.\n",
            "/usr/local/lib/python3.7/dist-packages/ipykernel_launcher.py:11: SettingWithCopyWarning: \n",
            "A value is trying to be set on a copy of a slice from a DataFrame\n",
            "\n",
            "See the caveats in the documentation: https://pandas.pydata.org/pandas-docs/stable/user_guide/indexing.html#returning-a-view-versus-a-copy\n",
            "  # This is added back by InteractiveShellApp.init_path()\n"
          ],
          "name": "stderr"
        },
        {
          "output_type": "execute_result",
          "data": {
            "text/html": [
              "<div>\n",
              "<style scoped>\n",
              "    .dataframe tbody tr th:only-of-type {\n",
              "        vertical-align: middle;\n",
              "    }\n",
              "\n",
              "    .dataframe tbody tr th {\n",
              "        vertical-align: top;\n",
              "    }\n",
              "\n",
              "    .dataframe thead th {\n",
              "        text-align: right;\n",
              "    }\n",
              "</style>\n",
              "<table border=\"1\" class=\"dataframe\">\n",
              "  <thead>\n",
              "    <tr style=\"text-align: right;\">\n",
              "      <th></th>\n",
              "      <th>age</th>\n",
              "      <th>job</th>\n",
              "      <th>marital</th>\n",
              "      <th>education</th>\n",
              "      <th>default</th>\n",
              "      <th>balance</th>\n",
              "      <th>housing</th>\n",
              "      <th>loan</th>\n",
              "      <th>contact</th>\n",
              "      <th>day</th>\n",
              "      <th>month</th>\n",
              "      <th>duration</th>\n",
              "      <th>campaign</th>\n",
              "      <th>pdays</th>\n",
              "      <th>previous</th>\n",
              "      <th>poutcome</th>\n",
              "      <th>y</th>\n",
              "    </tr>\n",
              "  </thead>\n",
              "  <tbody>\n",
              "    <tr>\n",
              "      <th>0</th>\n",
              "      <td>58</td>\n",
              "      <td>4</td>\n",
              "      <td>1</td>\n",
              "      <td>2</td>\n",
              "      <td>0</td>\n",
              "      <td>2143</td>\n",
              "      <td>1</td>\n",
              "      <td>0</td>\n",
              "      <td>2</td>\n",
              "      <td>5</td>\n",
              "      <td>8</td>\n",
              "      <td>261</td>\n",
              "      <td>1</td>\n",
              "      <td>-1</td>\n",
              "      <td>0</td>\n",
              "      <td>3</td>\n",
              "      <td>0</td>\n",
              "    </tr>\n",
              "    <tr>\n",
              "      <th>1</th>\n",
              "      <td>44</td>\n",
              "      <td>9</td>\n",
              "      <td>2</td>\n",
              "      <td>1</td>\n",
              "      <td>0</td>\n",
              "      <td>29</td>\n",
              "      <td>1</td>\n",
              "      <td>0</td>\n",
              "      <td>2</td>\n",
              "      <td>5</td>\n",
              "      <td>8</td>\n",
              "      <td>151</td>\n",
              "      <td>1</td>\n",
              "      <td>-1</td>\n",
              "      <td>0</td>\n",
              "      <td>3</td>\n",
              "      <td>0</td>\n",
              "    </tr>\n",
              "    <tr>\n",
              "      <th>2</th>\n",
              "      <td>33</td>\n",
              "      <td>2</td>\n",
              "      <td>1</td>\n",
              "      <td>1</td>\n",
              "      <td>0</td>\n",
              "      <td>2</td>\n",
              "      <td>1</td>\n",
              "      <td>1</td>\n",
              "      <td>2</td>\n",
              "      <td>5</td>\n",
              "      <td>8</td>\n",
              "      <td>76</td>\n",
              "      <td>1</td>\n",
              "      <td>-1</td>\n",
              "      <td>0</td>\n",
              "      <td>3</td>\n",
              "      <td>0</td>\n",
              "    </tr>\n",
              "    <tr>\n",
              "      <th>3</th>\n",
              "      <td>47</td>\n",
              "      <td>1</td>\n",
              "      <td>1</td>\n",
              "      <td>3</td>\n",
              "      <td>0</td>\n",
              "      <td>1506</td>\n",
              "      <td>1</td>\n",
              "      <td>0</td>\n",
              "      <td>2</td>\n",
              "      <td>5</td>\n",
              "      <td>8</td>\n",
              "      <td>92</td>\n",
              "      <td>1</td>\n",
              "      <td>-1</td>\n",
              "      <td>0</td>\n",
              "      <td>3</td>\n",
              "      <td>0</td>\n",
              "    </tr>\n",
              "    <tr>\n",
              "      <th>4</th>\n",
              "      <td>33</td>\n",
              "      <td>11</td>\n",
              "      <td>2</td>\n",
              "      <td>3</td>\n",
              "      <td>0</td>\n",
              "      <td>1</td>\n",
              "      <td>0</td>\n",
              "      <td>0</td>\n",
              "      <td>2</td>\n",
              "      <td>5</td>\n",
              "      <td>8</td>\n",
              "      <td>198</td>\n",
              "      <td>1</td>\n",
              "      <td>-1</td>\n",
              "      <td>0</td>\n",
              "      <td>3</td>\n",
              "      <td>0</td>\n",
              "    </tr>\n",
              "    <tr>\n",
              "      <th>...</th>\n",
              "      <td>...</td>\n",
              "      <td>...</td>\n",
              "      <td>...</td>\n",
              "      <td>...</td>\n",
              "      <td>...</td>\n",
              "      <td>...</td>\n",
              "      <td>...</td>\n",
              "      <td>...</td>\n",
              "      <td>...</td>\n",
              "      <td>...</td>\n",
              "      <td>...</td>\n",
              "      <td>...</td>\n",
              "      <td>...</td>\n",
              "      <td>...</td>\n",
              "      <td>...</td>\n",
              "      <td>...</td>\n",
              "      <td>...</td>\n",
              "    </tr>\n",
              "    <tr>\n",
              "      <th>45206</th>\n",
              "      <td>51</td>\n",
              "      <td>9</td>\n",
              "      <td>1</td>\n",
              "      <td>2</td>\n",
              "      <td>0</td>\n",
              "      <td>825</td>\n",
              "      <td>0</td>\n",
              "      <td>0</td>\n",
              "      <td>0</td>\n",
              "      <td>17</td>\n",
              "      <td>9</td>\n",
              "      <td>977</td>\n",
              "      <td>3</td>\n",
              "      <td>-1</td>\n",
              "      <td>0</td>\n",
              "      <td>3</td>\n",
              "      <td>1</td>\n",
              "    </tr>\n",
              "    <tr>\n",
              "      <th>45207</th>\n",
              "      <td>71</td>\n",
              "      <td>5</td>\n",
              "      <td>0</td>\n",
              "      <td>0</td>\n",
              "      <td>0</td>\n",
              "      <td>1729</td>\n",
              "      <td>0</td>\n",
              "      <td>0</td>\n",
              "      <td>0</td>\n",
              "      <td>17</td>\n",
              "      <td>9</td>\n",
              "      <td>456</td>\n",
              "      <td>2</td>\n",
              "      <td>-1</td>\n",
              "      <td>0</td>\n",
              "      <td>3</td>\n",
              "      <td>1</td>\n",
              "    </tr>\n",
              "    <tr>\n",
              "      <th>45208</th>\n",
              "      <td>72</td>\n",
              "      <td>5</td>\n",
              "      <td>1</td>\n",
              "      <td>1</td>\n",
              "      <td>0</td>\n",
              "      <td>5715</td>\n",
              "      <td>0</td>\n",
              "      <td>0</td>\n",
              "      <td>0</td>\n",
              "      <td>17</td>\n",
              "      <td>9</td>\n",
              "      <td>1127</td>\n",
              "      <td>5</td>\n",
              "      <td>184</td>\n",
              "      <td>3</td>\n",
              "      <td>2</td>\n",
              "      <td>1</td>\n",
              "    </tr>\n",
              "    <tr>\n",
              "      <th>45209</th>\n",
              "      <td>57</td>\n",
              "      <td>1</td>\n",
              "      <td>1</td>\n",
              "      <td>1</td>\n",
              "      <td>0</td>\n",
              "      <td>668</td>\n",
              "      <td>0</td>\n",
              "      <td>0</td>\n",
              "      <td>1</td>\n",
              "      <td>17</td>\n",
              "      <td>9</td>\n",
              "      <td>508</td>\n",
              "      <td>4</td>\n",
              "      <td>-1</td>\n",
              "      <td>0</td>\n",
              "      <td>3</td>\n",
              "      <td>0</td>\n",
              "    </tr>\n",
              "    <tr>\n",
              "      <th>45210</th>\n",
              "      <td>37</td>\n",
              "      <td>2</td>\n",
              "      <td>1</td>\n",
              "      <td>1</td>\n",
              "      <td>0</td>\n",
              "      <td>2971</td>\n",
              "      <td>0</td>\n",
              "      <td>0</td>\n",
              "      <td>0</td>\n",
              "      <td>17</td>\n",
              "      <td>9</td>\n",
              "      <td>361</td>\n",
              "      <td>2</td>\n",
              "      <td>188</td>\n",
              "      <td>11</td>\n",
              "      <td>1</td>\n",
              "      <td>0</td>\n",
              "    </tr>\n",
              "  </tbody>\n",
              "</table>\n",
              "<p>45211 rows × 17 columns</p>\n",
              "</div>"
            ],
            "text/plain": [
              "       age job marital education default  balance housing loan contact  day  \\\n",
              "0       58   4       1         2       0     2143       1    0       2    5   \n",
              "1       44   9       2         1       0       29       1    0       2    5   \n",
              "2       33   2       1         1       0        2       1    1       2    5   \n",
              "3       47   1       1         3       0     1506       1    0       2    5   \n",
              "4       33  11       2         3       0        1       0    0       2    5   \n",
              "...    ...  ..     ...       ...     ...      ...     ...  ...     ...  ...   \n",
              "45206   51   9       1         2       0      825       0    0       0   17   \n",
              "45207   71   5       0         0       0     1729       0    0       0   17   \n",
              "45208   72   5       1         1       0     5715       0    0       0   17   \n",
              "45209   57   1       1         1       0      668       0    0       1   17   \n",
              "45210   37   2       1         1       0     2971       0    0       0   17   \n",
              "\n",
              "      month  duration  campaign  pdays  previous poutcome  y  \n",
              "0         8       261         1     -1         0        3  0  \n",
              "1         8       151         1     -1         0        3  0  \n",
              "2         8        76         1     -1         0        3  0  \n",
              "3         8        92         1     -1         0        3  0  \n",
              "4         8       198         1     -1         0        3  0  \n",
              "...     ...       ...       ...    ...       ...      ... ..  \n",
              "45206     9       977         3     -1         0        3  1  \n",
              "45207     9       456         2     -1         0        3  1  \n",
              "45208     9      1127         5    184         3        2  1  \n",
              "45209     9       508         4     -1         0        3  0  \n",
              "45210     9       361         2    188        11        1  0  \n",
              "\n",
              "[45211 rows x 17 columns]"
            ]
          },
          "metadata": {
            "tags": []
          },
          "execution_count": 39
        }
      ]
    },
    {
      "cell_type": "markdown",
      "metadata": {
        "id": "78RJukoAvIdA"
      },
      "source": [
        "Выделяем часть датасета для работы"
      ]
    },
    {
      "cell_type": "code",
      "metadata": {
        "id": "9PGXBbBiJI0A"
      },
      "source": [
        "X = df1.iloc[:, :-1].values  "
      ],
      "execution_count": null,
      "outputs": []
    },
    {
      "cell_type": "markdown",
      "metadata": {
        "id": "9Vgy5iljpjdk"
      },
      "source": [
        "Заменяем значения "
      ]
    },
    {
      "cell_type": "code",
      "metadata": {
        "id": "_Kf1wh7_E_Q4"
      },
      "source": [
        "def make_missing_value(X, del_fraction):\n",
        "    N = X.shape[0]\n",
        "    D = X.shape[1]\n",
        "    delete_mask = np.array(np.random.random((N, D)))\n",
        "    #Заполняем обозначенную долю True - будет nan, остальное False \n",
        "    #while (sum(sum(delete_mask))!= del_fraction*N*D): первый вариант не вариант, слишком долго\n",
        "     # delete_mask = np.array(np.random.random((N, D)) < del_fraction)\n",
        "    mas = []\n",
        "    for i in range(45211):\n",
        "      if i < int(45211*0.1):\n",
        "        mas.append(bool(True))\n",
        "      else:\n",
        "        mas.append(bool(False))\n",
        "    delete_mask = pd.DataFrame()\n",
        "    for i in range (16):\n",
        "      np.random.shuffle(mas)\n",
        "      delete_mask[i] = mas\n",
        "\n",
        "    # Значения где был True заменяются на nan, остальное остается значениями\n",
        "    new_X = np.array(X)\n",
        "    new_X = new_X.astype('float64')\n",
        "    new_X[delete_mask] = np.nan\n",
        "    return new_X"
      ],
      "execution_count": null,
      "outputs": []
    },
    {
      "cell_type": "markdown",
      "metadata": {
        "id": "xz8KWuihpqOt"
      },
      "source": [
        "\"Удаляем\" долю результатов и при помощи impyute заменяем их на предполагаемые значения. Считаем точность, СКО, дисперсию. Применяем данную схему для заполнения средним и knn для всех вариантов количества пропусков."
      ]
    },
    {
      "cell_type": "code",
      "metadata": {
        "id": "JlTLP_1ZZQ6d"
      },
      "source": [
        "tt = X\n",
        "tt = make_missing_value(tt, 0.1)\n",
        "means = impy.mean(tt)\n",
        "y = (np.isclose(X.astype('float64'), means))\n",
        "acc_10_means = (45211*16*0.1-(45211*16 - np.sum(y)))/(45211*16*0.1)\n",
        "disp_10_means = np.var(means)\n",
        "sko_10_means = np.std(means)"
      ],
      "execution_count": null,
      "outputs": []
    },
    {
      "cell_type": "code",
      "metadata": {
        "id": "M5Bdp7yDhKca"
      },
      "source": [
        "tt = X\n",
        "tt = make_missing_value(tt, 0.1)\n",
        "knn = impy.fast_knn(tt)\n",
        "y = (np.isclose(X.astype('float64'), knn))\n",
        "acc_10_knn = (45211*16*0.1-(45211*16 - np.sum(y)))/(45211*16*0.1)\n",
        "disp_10_knn = np.var(knn)\n",
        "sko_10_knn = np.std(knn)"
      ],
      "execution_count": null,
      "outputs": []
    },
    {
      "cell_type": "markdown",
      "metadata": {
        "id": "me4AudV1vaxi"
      },
      "source": [
        "Замена случайным лесом. Документация https://pypi.org/project/missingpy/\n",
        "\n",
        "Для разнообразия методы заполнения взяты из разных библиотек"
      ]
    },
    {
      "cell_type": "code",
      "metadata": {
        "colab": {
          "base_uri": "https://localhost:8080/"
        },
        "id": "7i8tKz85mp7S",
        "outputId": "a4bcc9eb-82b8-4751-a67a-a803d7976f66"
      },
      "source": [
        "tt = X\n",
        "tt = make_missing_value(tt, 0.1)\n",
        "imputer = MissForest()\n",
        "rf = imputer.fit_transform(tt)\n",
        "y = (np.isclose(X.astype('float64'), rf))\n",
        "acc_10_rf = (45211*16*0.1-(45211*16 - np.sum(y)))/(45211*16*0.1)\n",
        "disp_10_rf = np.var(rf)\n",
        "sko_10_rf = np.std(rf)"
      ],
      "execution_count": null,
      "outputs": [
        {
          "output_type": "stream",
          "text": [
            "Iteration: 0\n",
            "Iteration: 1\n",
            "Iteration: 2\n",
            "Iteration: 3\n",
            "Iteration: 4\n"
          ],
          "name": "stdout"
        }
      ]
    },
    {
      "cell_type": "markdown",
      "metadata": {
        "id": "ShOgRZygvqrr"
      },
      "source": [
        "Повторяем для 25%"
      ]
    },
    {
      "cell_type": "code",
      "metadata": {
        "id": "sUcY300ilg2u"
      },
      "source": [
        "tt = X\n",
        "tt = make_missing_value(tt, 0.25)\n",
        "means = impy.mean(tt)\n",
        "y = (np.isclose(X.astype('float64'), means))\n",
        "acc_25_means = (45211*16*0.25-(45211*16 - np.sum(y)))/(45211*16*0.25)\n",
        "disp_25_means = np.var(means)\n",
        "sko_25_means = np.std(means)"
      ],
      "execution_count": null,
      "outputs": []
    },
    {
      "cell_type": "code",
      "metadata": {
        "id": "kdphYbzolgza"
      },
      "source": [
        "tt = X\n",
        "tt = make_missing_value(tt, 0.25)\n",
        "knn = impy.fast_knn(tt)\n",
        "y = (np.isclose(X.astype('float64'), knn))\n",
        "acc_25_knn = (45211*16*0.25-(45211*16 - np.sum(y)))/(45211*16*0.25)\n",
        "disp_25_knn = np.var(knn)\n",
        "sko_25_knn = np.std(knn)"
      ],
      "execution_count": null,
      "outputs": []
    },
    {
      "cell_type": "code",
      "metadata": {
        "colab": {
          "base_uri": "https://localhost:8080/"
        },
        "id": "r-XAybIYtqel",
        "outputId": "7f246cb4-2769-4c3c-88b6-f2c0f9ee13ec"
      },
      "source": [
        "tt = X\n",
        "tt = make_missing_value(tt, 0.25)\n",
        "rf = imputer.fit_transform(tt)\n",
        "y = (np.isclose(X.astype('float64'), rf))\n",
        "acc_25_rf = (45211*16*0.25-(45211*16 - np.sum(y)))/(45211*16*0.25)\n",
        "disp_25_rf = np.var(rf)\n",
        "sko_25_rf = np.std(rf)"
      ],
      "execution_count": null,
      "outputs": [
        {
          "output_type": "stream",
          "text": [
            "Iteration: 0\n",
            "Iteration: 1\n",
            "Iteration: 2\n",
            "Iteration: 3\n",
            "Iteration: 4\n",
            "Iteration: 5\n",
            "Iteration: 6\n"
          ],
          "name": "stdout"
        }
      ]
    },
    {
      "cell_type": "markdown",
      "metadata": {
        "id": "LKkBhCEfvul5"
      },
      "source": [
        "Повторяем для 30%"
      ]
    },
    {
      "cell_type": "code",
      "metadata": {
        "id": "sn0frdxIlgvf"
      },
      "source": [
        "tt = X\n",
        "tt = make_missing_value(tt, 0.3)\n",
        "means = impy.mean(tt)\n",
        "y = (np.isclose(X.astype('float64'), means))\n",
        "acc_30_means = (45211*16*0.3-(45211*16 - np.sum(y)))/(45211*16*0.3)\n",
        "disp_30_means = np.var(means)\n",
        "sko_30_means = np.std(means)"
      ],
      "execution_count": null,
      "outputs": []
    },
    {
      "cell_type": "code",
      "metadata": {
        "id": "WrOUbWOXlgre"
      },
      "source": [
        "tt = X\n",
        "tt = make_missing_value(tt, 0.3)\n",
        "knn = impy.fast_knn(tt)\n",
        "y = (np.isclose(X.astype('float64'), knn))\n",
        "acc_30_knn = (45211*16*0.3-(45211*16 - np.sum(y)))/(45211*16*0.3)\n",
        "disp_30_knn = np.var(knn)\n",
        "sko_30_knn = np.std(knn)"
      ],
      "execution_count": null,
      "outputs": []
    },
    {
      "cell_type": "code",
      "metadata": {
        "colab": {
          "base_uri": "https://localhost:8080/"
        },
        "id": "_omeJkEduALG",
        "outputId": "705f422a-1441-4909-b68a-cd0aee150413"
      },
      "source": [
        "tt = X\n",
        "tt = make_missing_value(tt, 0.3)\n",
        "rf = imputer.fit_transform(tt)\n",
        "y = (np.isclose(X.astype('float64'), rf))\n",
        "acc_30_rf = (45211*16*0.3-(45211*16 - np.sum(y)))/(45211*16*0.3)\n",
        "disp_30_rf = np.var(rf)\n",
        "sko_30_rf = np.std(rf)"
      ],
      "execution_count": null,
      "outputs": [
        {
          "output_type": "stream",
          "text": [
            "Iteration: 0\n",
            "Iteration: 1\n",
            "Iteration: 2\n",
            "Iteration: 3\n",
            "Iteration: 4\n",
            "Iteration: 5\n",
            "Iteration: 6\n",
            "Iteration: 7\n"
          ],
          "name": "stdout"
        }
      ]
    },
    {
      "cell_type": "markdown",
      "metadata": {
        "id": "0MFRFWKyvzM3"
      },
      "source": [
        "Сводня таблица результатов "
      ]
    },
    {
      "cell_type": "code",
      "metadata": {
        "colab": {
          "base_uri": "https://localhost:8080/",
          "height": 345
        },
        "id": "Gv1YYmkfl-_h",
        "outputId": "4234b90e-1144-4ccf-f070-ab62faad8ab8"
      },
      "source": [
        "table = pd.DataFrame(index = ['means, 10%', 'knn, 10%','rf, 10%', 'means, 25%', 'knn, 25%','rf, 25%',\n",
        "                              'means, 30%', 'knn, 30%', 'rf, 30%'])\n",
        "\n",
        "table['acc'] = [acc_10_means, acc_10_knn, acc_10_rf,\n",
        "                acc_25_means, acc_25_knn, acc_25_rf,\n",
        "                acc_30_means, acc_30_knn, acc_30_rf]\n",
        "table['disp'] = [disp_10_means, disp_10_knn, disp_10_rf,\n",
        "                 disp_25_means, disp_25_knn, disp_25_rf,\n",
        "                 disp_30_means, disp_30_knn, disp_30_rf]\n",
        "table['sko'] = [sko_10_means, sko_10_knn, sko_10_rf,\n",
        "                sko_25_means, sko_25_knn,sko_25_rf,\n",
        "                sko_30_means, sko_30_knn, sko_30_rf]\n",
        "print('sko X ', np.std(X),'  disp X', np.var(X))\n",
        "table"
      ],
      "execution_count": null,
      "outputs": [
        {
          "output_type": "stream",
          "text": [
            "sko X  832.3328376979256   disp X 692777.9527102814\n"
          ],
          "name": "stdout"
        },
        {
          "output_type": "execute_result",
          "data": {
            "text/html": [
              "<div>\n",
              "<style scoped>\n",
              "    .dataframe tbody tr th:only-of-type {\n",
              "        vertical-align: middle;\n",
              "    }\n",
              "\n",
              "    .dataframe tbody tr th {\n",
              "        vertical-align: top;\n",
              "    }\n",
              "\n",
              "    .dataframe thead th {\n",
              "        text-align: right;\n",
              "    }\n",
              "</style>\n",
              "<table border=\"1\" class=\"dataframe\">\n",
              "  <thead>\n",
              "    <tr style=\"text-align: right;\">\n",
              "      <th></th>\n",
              "      <th>acc</th>\n",
              "      <th>disp</th>\n",
              "      <th>sko</th>\n",
              "    </tr>\n",
              "  </thead>\n",
              "  <tbody>\n",
              "    <tr>\n",
              "      <th>means, 10%</th>\n",
              "      <td>0.000022</td>\n",
              "      <td>639496.286183</td>\n",
              "      <td>799.685117</td>\n",
              "    </tr>\n",
              "    <tr>\n",
              "      <th>knn, 10%</th>\n",
              "      <td>0.179099</td>\n",
              "      <td>635915.955818</td>\n",
              "      <td>797.443387</td>\n",
              "    </tr>\n",
              "    <tr>\n",
              "      <th>rf, 10%</th>\n",
              "      <td>0.214917</td>\n",
              "      <td>652140.925965</td>\n",
              "      <td>807.552429</td>\n",
              "    </tr>\n",
              "    <tr>\n",
              "      <th>means, 25%</th>\n",
              "      <td>0.600009</td>\n",
              "      <td>638286.185332</td>\n",
              "      <td>798.928148</td>\n",
              "    </tr>\n",
              "    <tr>\n",
              "      <th>knn, 25%</th>\n",
              "      <td>0.671197</td>\n",
              "      <td>615871.787668</td>\n",
              "      <td>784.774992</td>\n",
              "    </tr>\n",
              "    <tr>\n",
              "      <th>rf, 25%</th>\n",
              "      <td>0.686890</td>\n",
              "      <td>637321.040681</td>\n",
              "      <td>798.323895</td>\n",
              "    </tr>\n",
              "    <tr>\n",
              "      <th>means, 30%</th>\n",
              "      <td>0.666674</td>\n",
              "      <td>630399.041230</td>\n",
              "      <td>793.976726</td>\n",
              "    </tr>\n",
              "    <tr>\n",
              "      <th>knn, 30%</th>\n",
              "      <td>0.726279</td>\n",
              "      <td>633171.938244</td>\n",
              "      <td>795.721018</td>\n",
              "    </tr>\n",
              "    <tr>\n",
              "      <th>rf, 30%</th>\n",
              "      <td>0.738485</td>\n",
              "      <td>642504.165868</td>\n",
              "      <td>801.563576</td>\n",
              "    </tr>\n",
              "  </tbody>\n",
              "</table>\n",
              "</div>"
            ],
            "text/plain": [
              "                 acc           disp         sko\n",
              "means, 10%  0.000022  639496.286183  799.685117\n",
              "knn, 10%    0.179099  635915.955818  797.443387\n",
              "rf, 10%     0.214917  652140.925965  807.552429\n",
              "means, 25%  0.600009  638286.185332  798.928148\n",
              "knn, 25%    0.671197  615871.787668  784.774992\n",
              "rf, 25%     0.686890  637321.040681  798.323895\n",
              "means, 30%  0.666674  630399.041230  793.976726\n",
              "knn, 30%    0.726279  633171.938244  795.721018\n",
              "rf, 30%     0.738485  642504.165868  801.563576"
            ]
          },
          "metadata": {
            "tags": []
          },
          "execution_count": 54
        }
      ]
    }
  ]
}